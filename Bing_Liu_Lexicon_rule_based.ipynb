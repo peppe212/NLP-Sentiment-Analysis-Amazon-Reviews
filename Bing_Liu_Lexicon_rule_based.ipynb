{
 "cells": [
  {
   "metadata": {},
   "cell_type": "markdown",
   "source": [
    "**Project:** Sentiment Analysis of [Amazon Product Reviews](https://www.kaggle.com/datasets/arhamrumi/amazon-product-reviews)\n",
    "\n",
    "**Author:** [Giuseppe Muschetta](https://github.com/peppe212)\n",
    "\n",
    "**Python version:** 3.8"
   ],
   "id": "42213a10b1a38bb6"
  },
  {
   "metadata": {},
   "cell_type": "markdown",
   "source": [
    "## RULE-BASED MODEL USING BING LIU LEXICON \n",
    "**Rule-Based Model:** [Bing Liu Lexicon](https://www.cs.uic.edu/~liub/FBS/sentiment-analysis.html#lexicon)"
   ],
   "id": "53e0e483fda5f4c2"
  },
  {
   "metadata": {
    "ExecuteTime": {
     "end_time": "2024-04-21T18:00:26.156669Z",
     "start_time": "2024-04-21T18:00:26.103173Z"
    }
   },
   "cell_type": "code",
   "source": [
    "# Sopprimiamo i fastidiosissimi warnings\n",
    "import warnings\n",
    "warnings.filterwarnings('ignore')\n",
    "\n",
    "# Librerie\n",
    "import pandas as pd\n",
    "import matplotlib.pyplot as plt\n",
    "import seaborn as sns\n",
    "# Impostazioni dello stile Seaborn in ambiente globale\n",
    "sns.set(\n",
    "    style='whitegrid',\n",
    "    palette='pastel',\n",
    "    context='notebook',\n",
    "    font_scale=1.1,\n",
    "    rc={'lines.linewidth': 2, 'grid.linestyle': '--'}\n",
    ")\n",
    "from sklearn.metrics import classification_report, confusion_matrix"
   ],
   "id": "f42180ad32cb76c4",
   "outputs": [],
   "execution_count": 1
  },
  {
   "metadata": {
    "ExecuteTime": {
     "end_time": "2024-04-21T18:00:26.158946Z",
     "start_time": "2024-04-21T18:00:26.157345Z"
    }
   },
   "cell_type": "code",
   "source": [
    "# IMPOSTAZIONE DEI PATH in ingresso e uscita\n",
    "# impostiamo il path di input per il dataset\n",
    "# utilizzeremo il dataset contenente testo già ripulito\n",
    "input_dataset_path = \"Dataset/cleaned_reviews.csv\"\n",
    "\n",
    "# imposto il path di salvataggio delle figure\n",
    "images_bing_liu_path = \"Images/Bing_Liu_Lexicon/\"\n",
    "\n",
    "# impostiamo i path per il lessico\n",
    "input_lexicon_positive_path = \"bing_liu_lexicon_english/positive-words.txt\"\n",
    "input_lexicon_negative_path = \"bing_liu_lexicon_english/negative-words.txt\""
   ],
   "id": "e553014e3b927a7a",
   "outputs": [],
   "execution_count": 2
  },
  {
   "metadata": {
    "ExecuteTime": {
     "end_time": "2024-04-21T18:00:26.399599Z",
     "start_time": "2024-04-21T18:00:26.160389Z"
    }
   },
   "cell_type": "code",
   "source": [
    "# CARICHIAMO IL DATASET RIPULITO E IL BING LIU LEXICON\n",
    "df = pd.read_csv(input_dataset_path)\n",
    "\n",
    "# funzione che legge i due file di testo a partire dal path di input\n",
    "def load_lexicon(file_path):\n",
    "    with open(file_path, 'r', encoding='latin-1') as file:\n",
    "        words = set(file.read().strip().split())\n",
    "    return words\n",
    "\n",
    "positive_words = load_lexicon(input_lexicon_positive_path)\n",
    "negative_words = load_lexicon(input_lexicon_negative_path)"
   ],
   "id": "1c9a974d53476cd1",
   "outputs": [],
   "execution_count": 3
  },
  {
   "metadata": {
    "ExecuteTime": {
     "end_time": "2024-04-21T18:00:26.405453Z",
     "start_time": "2024-04-21T18:00:26.400285Z"
    }
   },
   "cell_type": "code",
   "source": "df.head()",
   "id": "9080d572a60c1b3b",
   "outputs": [
    {
     "data": {
      "text/plain": [
       "   sentiment                                       cleaned_text\n",
       "0          0  ok not ingredient barbecue sauce hardly taste ...\n",
       "1          0  granola right ingredient nuts coconut somehow ...\n",
       "2          0  I past enjoy however I receive weak neither si...\n",
       "3          0  I try sans sucre vanilla mousse like even I fa...\n",
       "4          1  I usually not like black herbal tea but I able..."
      ],
      "text/html": [
       "<div>\n",
       "<style scoped>\n",
       "    .dataframe tbody tr th:only-of-type {\n",
       "        vertical-align: middle;\n",
       "    }\n",
       "\n",
       "    .dataframe tbody tr th {\n",
       "        vertical-align: top;\n",
       "    }\n",
       "\n",
       "    .dataframe thead th {\n",
       "        text-align: right;\n",
       "    }\n",
       "</style>\n",
       "<table border=\"1\" class=\"dataframe\">\n",
       "  <thead>\n",
       "    <tr style=\"text-align: right;\">\n",
       "      <th></th>\n",
       "      <th>sentiment</th>\n",
       "      <th>cleaned_text</th>\n",
       "    </tr>\n",
       "  </thead>\n",
       "  <tbody>\n",
       "    <tr>\n",
       "      <th>0</th>\n",
       "      <td>0</td>\n",
       "      <td>ok not ingredient barbecue sauce hardly taste ...</td>\n",
       "    </tr>\n",
       "    <tr>\n",
       "      <th>1</th>\n",
       "      <td>0</td>\n",
       "      <td>granola right ingredient nuts coconut somehow ...</td>\n",
       "    </tr>\n",
       "    <tr>\n",
       "      <th>2</th>\n",
       "      <td>0</td>\n",
       "      <td>I past enjoy however I receive weak neither si...</td>\n",
       "    </tr>\n",
       "    <tr>\n",
       "      <th>3</th>\n",
       "      <td>0</td>\n",
       "      <td>I try sans sucre vanilla mousse like even I fa...</td>\n",
       "    </tr>\n",
       "    <tr>\n",
       "      <th>4</th>\n",
       "      <td>1</td>\n",
       "      <td>I usually not like black herbal tea but I able...</td>\n",
       "    </tr>\n",
       "  </tbody>\n",
       "</table>\n",
       "</div>"
      ]
     },
     "execution_count": 4,
     "metadata": {},
     "output_type": "execute_result"
    }
   ],
   "execution_count": 4
  },
  {
   "metadata": {},
   "cell_type": "markdown",
   "source": "### RULE-BASED MODEL IN ACTION",
   "id": "c19c8edbab1e1f17"
  },
  {
   "metadata": {
    "ExecuteTime": {
     "end_time": "2024-04-21T18:00:27.115660Z",
     "start_time": "2024-04-21T18:00:26.406100Z"
    }
   },
   "cell_type": "code",
   "source": [
    "def sentiment_score_bing_liu(text, positive_words, negative_words):\n",
    "    \"\"\"\n",
    "    Calcola il sentiment score basato sul conteggio delle parole positive e negative.\n",
    "    \"\"\"\n",
    "    positive_count = 0\n",
    "    negative_count = 0\n",
    "    words = text.split()\n",
    "\n",
    "    for word in words:\n",
    "        if word in positive_words:\n",
    "            positive_count += 1\n",
    "        elif word in negative_words:\n",
    "            negative_count += 1\n",
    "\n",
    "    # Calcolo lo score come la differenza tra conteggi positivi e negativi\n",
    "    # Da qui si vede il funzionamento basilare del rule-based method\n",
    "    score = positive_count - negative_count\n",
    "    return score\n",
    "\n",
    "# Interpeto così per fare successivamente predizioni e confrontare\n",
    "def interpret_score(score):\n",
    "    \"\"\"\n",
    "    Interpreta il sentiment score: 1 per positivo, 0 per negativo.\n",
    "    \"\"\"\n",
    "    return 1 if score > 0 else 0\n",
    "\n",
    "\n",
    "# Applica la funzione di sentiment a ciascuna recensione nella colonna cleaned_text\n",
    "df['sentiment_score'] = df['cleaned_text'].apply(lambda x: sentiment_score_bing_liu(x, positive_words, negative_words))\n",
    "df['predicted_sentiment'] = df['sentiment_score'].apply(interpret_score)"
   ],
   "id": "23ef3033a577b04a",
   "outputs": [],
   "execution_count": 5
  },
  {
   "metadata": {
    "ExecuteTime": {
     "end_time": "2024-04-21T18:00:27.120294Z",
     "start_time": "2024-04-21T18:00:27.116408Z"
    }
   },
   "cell_type": "code",
   "source": [
    "# da qui vediamo lo score sentiment e le predizioni fatte dal modello rule-based\n",
    "df.head(20)"
   ],
   "id": "3bd5b5e8dd278eb7",
   "outputs": [
    {
     "data": {
      "text/plain": [
       "    sentiment                                       cleaned_text  \\\n",
       "0           0  ok not ingredient barbecue sauce hardly taste ...   \n",
       "1           0  granola right ingredient nuts coconut somehow ...   \n",
       "2           0  I past enjoy however I receive weak neither si...   \n",
       "3           0  I try sans sucre vanilla mousse like even I fa...   \n",
       "4           1  I usually not like black herbal tea but I able...   \n",
       "5           1  I love raw cacao powder such great taste I raw...   \n",
       "6           0  delicious but send melt I melt I guess expire ...   \n",
       "7           0  taste little off I like microwave popcorn not ...   \n",
       "8           1  die heal skin inside concern recommend highly ...   \n",
       "9           0  first try eat could not look ingredient find m...   \n",
       "10          1  I taste first vancouver I love taste!!jenssens...   \n",
       "11          0  I hopeful would good I receive bitter bad afte...   \n",
       "12          1  real good snack good body I mix raisen peanut ...   \n",
       "13          1  lavendar fragrant I could smell front step arr...   \n",
       "14          0  I know well chance new cat food over internet ...   \n",
       "15          1  I three bag year old cane corso adopt love foo...   \n",
       "16          0  picture bag food look healthy assume name try ...   \n",
       "17          1  I enjoy nong shim flavorful ramyun offering ye...   \n",
       "18          0  I pom pomegranate juice I see r w knudsen krog...   \n",
       "19          0  dry brittle dog cough soon eat first I not giv...   \n",
       "\n",
       "    sentiment_score  predicted_sentiment  \n",
       "0                -3                    0  \n",
       "1                -2                    0  \n",
       "2                 2                    1  \n",
       "3                -1                    0  \n",
       "4                 7                    1  \n",
       "5                 3                    1  \n",
       "6                 1                    1  \n",
       "7                 7                    1  \n",
       "8                -1                    0  \n",
       "9                 1                    1  \n",
       "10                4                    1  \n",
       "11               -1                    0  \n",
       "12                2                    1  \n",
       "13                2                    1  \n",
       "14                5                    1  \n",
       "15                0                    0  \n",
       "16               11                    1  \n",
       "17               15                    1  \n",
       "18                2                    1  \n",
       "19                0                    0  "
      ],
      "text/html": [
       "<div>\n",
       "<style scoped>\n",
       "    .dataframe tbody tr th:only-of-type {\n",
       "        vertical-align: middle;\n",
       "    }\n",
       "\n",
       "    .dataframe tbody tr th {\n",
       "        vertical-align: top;\n",
       "    }\n",
       "\n",
       "    .dataframe thead th {\n",
       "        text-align: right;\n",
       "    }\n",
       "</style>\n",
       "<table border=\"1\" class=\"dataframe\">\n",
       "  <thead>\n",
       "    <tr style=\"text-align: right;\">\n",
       "      <th></th>\n",
       "      <th>sentiment</th>\n",
       "      <th>cleaned_text</th>\n",
       "      <th>sentiment_score</th>\n",
       "      <th>predicted_sentiment</th>\n",
       "    </tr>\n",
       "  </thead>\n",
       "  <tbody>\n",
       "    <tr>\n",
       "      <th>0</th>\n",
       "      <td>0</td>\n",
       "      <td>ok not ingredient barbecue sauce hardly taste ...</td>\n",
       "      <td>-3</td>\n",
       "      <td>0</td>\n",
       "    </tr>\n",
       "    <tr>\n",
       "      <th>1</th>\n",
       "      <td>0</td>\n",
       "      <td>granola right ingredient nuts coconut somehow ...</td>\n",
       "      <td>-2</td>\n",
       "      <td>0</td>\n",
       "    </tr>\n",
       "    <tr>\n",
       "      <th>2</th>\n",
       "      <td>0</td>\n",
       "      <td>I past enjoy however I receive weak neither si...</td>\n",
       "      <td>2</td>\n",
       "      <td>1</td>\n",
       "    </tr>\n",
       "    <tr>\n",
       "      <th>3</th>\n",
       "      <td>0</td>\n",
       "      <td>I try sans sucre vanilla mousse like even I fa...</td>\n",
       "      <td>-1</td>\n",
       "      <td>0</td>\n",
       "    </tr>\n",
       "    <tr>\n",
       "      <th>4</th>\n",
       "      <td>1</td>\n",
       "      <td>I usually not like black herbal tea but I able...</td>\n",
       "      <td>7</td>\n",
       "      <td>1</td>\n",
       "    </tr>\n",
       "    <tr>\n",
       "      <th>5</th>\n",
       "      <td>1</td>\n",
       "      <td>I love raw cacao powder such great taste I raw...</td>\n",
       "      <td>3</td>\n",
       "      <td>1</td>\n",
       "    </tr>\n",
       "    <tr>\n",
       "      <th>6</th>\n",
       "      <td>0</td>\n",
       "      <td>delicious but send melt I melt I guess expire ...</td>\n",
       "      <td>1</td>\n",
       "      <td>1</td>\n",
       "    </tr>\n",
       "    <tr>\n",
       "      <th>7</th>\n",
       "      <td>0</td>\n",
       "      <td>taste little off I like microwave popcorn not ...</td>\n",
       "      <td>7</td>\n",
       "      <td>1</td>\n",
       "    </tr>\n",
       "    <tr>\n",
       "      <th>8</th>\n",
       "      <td>1</td>\n",
       "      <td>die heal skin inside concern recommend highly ...</td>\n",
       "      <td>-1</td>\n",
       "      <td>0</td>\n",
       "    </tr>\n",
       "    <tr>\n",
       "      <th>9</th>\n",
       "      <td>0</td>\n",
       "      <td>first try eat could not look ingredient find m...</td>\n",
       "      <td>1</td>\n",
       "      <td>1</td>\n",
       "    </tr>\n",
       "    <tr>\n",
       "      <th>10</th>\n",
       "      <td>1</td>\n",
       "      <td>I taste first vancouver I love taste!!jenssens...</td>\n",
       "      <td>4</td>\n",
       "      <td>1</td>\n",
       "    </tr>\n",
       "    <tr>\n",
       "      <th>11</th>\n",
       "      <td>0</td>\n",
       "      <td>I hopeful would good I receive bitter bad afte...</td>\n",
       "      <td>-1</td>\n",
       "      <td>0</td>\n",
       "    </tr>\n",
       "    <tr>\n",
       "      <th>12</th>\n",
       "      <td>1</td>\n",
       "      <td>real good snack good body I mix raisen peanut ...</td>\n",
       "      <td>2</td>\n",
       "      <td>1</td>\n",
       "    </tr>\n",
       "    <tr>\n",
       "      <th>13</th>\n",
       "      <td>1</td>\n",
       "      <td>lavendar fragrant I could smell front step arr...</td>\n",
       "      <td>2</td>\n",
       "      <td>1</td>\n",
       "    </tr>\n",
       "    <tr>\n",
       "      <th>14</th>\n",
       "      <td>0</td>\n",
       "      <td>I know well chance new cat food over internet ...</td>\n",
       "      <td>5</td>\n",
       "      <td>1</td>\n",
       "    </tr>\n",
       "    <tr>\n",
       "      <th>15</th>\n",
       "      <td>1</td>\n",
       "      <td>I three bag year old cane corso adopt love foo...</td>\n",
       "      <td>0</td>\n",
       "      <td>0</td>\n",
       "    </tr>\n",
       "    <tr>\n",
       "      <th>16</th>\n",
       "      <td>0</td>\n",
       "      <td>picture bag food look healthy assume name try ...</td>\n",
       "      <td>11</td>\n",
       "      <td>1</td>\n",
       "    </tr>\n",
       "    <tr>\n",
       "      <th>17</th>\n",
       "      <td>1</td>\n",
       "      <td>I enjoy nong shim flavorful ramyun offering ye...</td>\n",
       "      <td>15</td>\n",
       "      <td>1</td>\n",
       "    </tr>\n",
       "    <tr>\n",
       "      <th>18</th>\n",
       "      <td>0</td>\n",
       "      <td>I pom pomegranate juice I see r w knudsen krog...</td>\n",
       "      <td>2</td>\n",
       "      <td>1</td>\n",
       "    </tr>\n",
       "    <tr>\n",
       "      <th>19</th>\n",
       "      <td>0</td>\n",
       "      <td>dry brittle dog cough soon eat first I not giv...</td>\n",
       "      <td>0</td>\n",
       "      <td>0</td>\n",
       "    </tr>\n",
       "  </tbody>\n",
       "</table>\n",
       "</div>"
      ]
     },
     "execution_count": 6,
     "metadata": {},
     "output_type": "execute_result"
    }
   ],
   "execution_count": 6
  },
  {
   "metadata": {
    "ExecuteTime": {
     "end_time": "2024-04-21T18:00:27.447437Z",
     "start_time": "2024-04-21T18:00:27.120903Z"
    }
   },
   "cell_type": "code",
   "source": [
    "# Visualizza la distribuzione dei sentiment scores utilizzando Seaborn\n",
    "plt.figure(figsize=(10, 6))\n",
    "sns.histplot(df['sentiment_score'], bins=50)\n",
    "plt.title('Distribuzione dei Sentiment Scores')\n",
    "plt.xlabel('Sentiment Score')\n",
    "plt.ylabel('Frequenza')\n",
    "# Setta il limite sull'asse X per visualizzare meglio le recensioni\n",
    "plt.xlim(df['sentiment_score'].mean() - 15, df['sentiment_score'].mean() + 20)\n",
    "plt.savefig(images_bing_liu_path + \"distribuzione_sentiment_score.png\", \n",
    "            dpi=300, \n",
    "            bbox_inches='tight')\n",
    "plt.show()\n",
    "# la cosa incredibile è l'andamento gaussiano!"
   ],
   "id": "c699210aa50c5ad8",
   "outputs": [
    {
     "data": {
      "text/plain": [
       "<Figure size 1000x600 with 1 Axes>"
      ],
      "image/png": "[encoded data removed]"
     },
     "metadata": {},
     "output_type": "display_data"
    }
   ],
   "execution_count": 7
  },
  {
   "metadata": {
    "ExecuteTime": {
     "end_time": "2024-04-21T18:00:27.577860Z",
     "start_time": "2024-04-21T18:00:27.448049Z"
    }
   },
   "cell_type": "code",
   "source": [
    "# VALUTIAMO LE PERFORMANCE DEL MODELLO Rule-Based\n",
    "\n",
    "# Calcolo la matrice di confusione\n",
    "conf_matrix = confusion_matrix(df['sentiment'], df['predicted_sentiment'])\n",
    "\n",
    "# Calcolo il classification report\n",
    "class_report = classification_report(df['sentiment'], df['predicted_sentiment'])\n",
    "\n",
    "# Stampo il classification report\n",
    "print(class_report)\n",
    "\n",
    "# Stampo la matrice di confusione testuale\n",
    "print(conf_matrix)"
   ],
   "id": "82ee4c5de0a715ed",
   "outputs": [
    {
     "name": "stdout",
     "output_type": "stream",
     "text": [
      "              precision    recall  f1-score   support\n",
      "\n",
      "           0       0.81      0.32      0.46     82037\n",
      "           1       0.58      0.92      0.71     82037\n",
      "\n",
      "    accuracy                           0.62    164074\n",
      "   macro avg       0.69      0.62      0.58    164074\n",
      "weighted avg       0.69      0.62      0.58    164074\n",
      "\n",
      "[[26385 55652]\n",
      " [ 6352 75685]]\n"
     ]
    }
   ],
   "execution_count": 8
  },
  {
   "metadata": {
    "ExecuteTime": {
     "end_time": "2024-04-21T18:00:27.707002Z",
     "start_time": "2024-04-21T18:00:27.578572Z"
    }
   },
   "cell_type": "code",
   "source": [
    "# Visualizza la matrice di confusione usando Seaborn\n",
    "plt.figure(figsize=(7, 5))\n",
    "sns.heatmap(conf_matrix, annot=True, fmt='d', cmap='Blues', cbar=False)\n",
    "plt.title('Matrice di Confusione')\n",
    "plt.xlabel('Predicted Label')\n",
    "plt.ylabel('True Label')\n",
    "plt.savefig(images_bing_liu_path + \"confusion_matrix.png\",\n",
    "            dpi=300,\n",
    "            bbox_inches='tight')\n",
    "plt.tight_layout()\n",
    "plt.show()"
   ],
   "id": "6243668c10576221",
   "outputs": [
    {
     "data": {
      "text/plain": [
       "<Figure size 700x500 with 1 Axes>"
      ],
      "image/png": "[encoded data removed]"
     },
     "metadata": {},
     "output_type": "display_data"
    }
   ],
   "execution_count": 9
  },
  {
   "metadata": {},
   "cell_type": "markdown",
   "source": [
    "## Report di Classificazione\n",
    "\n",
    "### Classe 0 (Negativa)\n",
    "- **Precisione**: 0.81  \n",
    "  _Quando il modello predice un sentimento negativo, è corretto l'81% delle volte._\n",
    "- **Recall**: 0.32  \n",
    "  _Il modello rileva solo il 32% dei veri sentimenti negativi._\n",
    "\n",
    "### Classe 1 (Positiva)\n",
    "- **Precisione**: 0.58  \n",
    "  _Molte predizioni positive sono in realtà negative._\n",
    "- **Recall**: 0.92  \n",
    "  _Il modello rileva il 92% dei veri sentimenti positivi._\n",
    "\n",
    "### F1-Score\n",
    "- **Classe 1**: 0.71  \n",
    "  _Suggerisce che il modello performa meglio nel rilevare sentimenti positivi rispetto ai negativi._\n",
    "- **Classe 0**: 0.46  \n",
    "\n",
    "### Accuratezza del Modello\n",
    "- **Accuratezza Totale**: 0.62  \n",
    "  _Il 62% di tutte le predizioni è corretto._\n",
    "\n",
    "### Medie\n",
    "- **Media Macro**: Precisione 0.69, Ricordo 0.62, F1-score 0.58\n",
    "- **Media Ponderata**: Precisione 0.69, Ricordo 0.62, F1-score 0.58  \n",
    "  _Le metriche ponderate sono identiche alle metriche macro in questo caso perché il supporto è lo stesso per entrambe le classi._\n",
    "\n"
   ],
   "id": "e058d4bd555a9fd"
  },
  {
   "metadata": {
    "ExecuteTime": {
     "end_time": "2024-04-21T18:00:27.709362Z",
     "start_time": "2024-04-21T18:00:27.707806Z"
    }
   },
   "cell_type": "code",
   "source": "# fine modello Rule-Based",
   "id": "b4a78131228f79a0",
   "outputs": [],
   "execution_count": 10
  }
 ],
 "metadata": {
  "kernelspec": {
   "display_name": "Python 3",
   "language": "python",
   "name": "python3"
  },
  "language_info": {
   "codemirror_mode": {
    "name": "ipython",
    "version": 2
   },
   "file_extension": ".py",
   "mimetype": "text/x-python",
   "name": "python",
   "nbconvert_exporter": "python",
   "pygments_lexer": "ipython2",
   "version": "2.7.6"
  }
 },
 "nbformat": 4,
 "nbformat_minor": 5
}
