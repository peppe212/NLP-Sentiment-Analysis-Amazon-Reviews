{
 "cells": [
  {
   "metadata": {},
   "cell_type": "markdown",
   "source": [
    "**Project:** Sentiment Analysis of [Amazon Product Reviews](https://www.kaggle.com/datasets/arhamrumi/amazon-product-reviews)\n",
    "\n",
    "**Author:** [Giuseppe Muschetta](https://github.com/peppe212)\n",
    "\n",
    "**Python version:** 3.8"
   ],
   "id": "4fc43bb9c182002"
  },
  {
   "metadata": {},
   "cell_type": "markdown",
   "source": "## SENTIMENT ANALYSIS WITH DEEP LEARNING KERAS SEQUENTIAL API",
   "id": "ac9b53c96318c706"
  },
  {
   "metadata": {
    "ExecuteTime": {
     "end_time": "2024-04-29T23:42:59.728831Z",
     "start_time": "2024-04-29T23:42:57.802811Z"
    }
   },
   "cell_type": "code",
   "source": [
    "# Ignoriamo i warnings\n",
    "import warnings\n",
    "warnings.filterwarnings('ignore')\n",
    "\n",
    "from pathlib import Path\n",
    "\n",
    "import numpy as np\n",
    "import pandas as pd\n",
    "import matplotlib.pyplot as plt\n",
    "# setto lo stile globale di matplotlib\n",
    "plt.rc('font', size=14)\n",
    "plt.rc('axes', labelsize=14, titlesize=14)\n",
    "plt.rc('legend', fontsize=14)\n",
    "plt.rc('xtick', labelsize=10)\n",
    "plt.rc('ytick', labelsize=10)\n",
    "\n",
    "import seaborn as sns\n",
    "# Stile globale seaborn\n",
    "sns.set(\n",
    "    style='whitegrid',\n",
    "    palette='pastel',\n",
    "    context='notebook',\n",
    "    font_scale=1.1,\n",
    "    rc={'lines.linewidth': 2, 'grid.linestyle': '--'}\n",
    ")\n",
    "\n",
    "import tensorflow as tf\n",
    "from tensorflow.keras.preprocessing.text import Tokenizer\n",
    "from tensorflow.keras.preprocessing.sequence import pad_sequences\n",
    "from sklearn.metrics import classification_report, confusion_matrix\n",
    "from sklearn.model_selection import train_test_split\n",
    "from tensorflow.keras.models import Sequential, load_model\n",
    "from keras.layers import (Embedding,\n",
    "                          BatchNormalization,\n",
    "                          Conv1D, \n",
    "                          Dense, \n",
    "                          Dropout, \n",
    "                          MaxPooling1D,\n",
    "                          Bidirectional,\n",
    "                          LSTM)\n",
    "from tensorflow.keras.callbacks import EarlyStopping, ReduceLROnPlateau, ModelCheckpoint\n",
    "from tensorflow.keras.regularizers import l2\n",
    "from tensorflow.keras.initializers import HeNormal, GlorotUniform\n",
    "from gensim.models import Word2Vec"
   ],
   "id": "29428790c09d4e2c",
   "outputs": [],
   "execution_count": 1
  },
  {
   "metadata": {},
   "cell_type": "markdown",
   "source": "#### IMPOSTAZIONE DEI VARI PATH",
   "id": "89fd415f3a334aac"
  },
  {
   "metadata": {
    "ExecuteTime": {
     "end_time": "2024-04-29T23:42:59.940947Z",
     "start_time": "2024-04-29T23:42:59.729726Z"
    }
   },
   "cell_type": "code",
   "source": [
    "# Caricamento del Dataset già processato e ripulito\n",
    "DATASET_PATH = Path() / \"Dataset/cleaned_reviews.csv\"\n",
    "df = pd.read_csv(DATASET_PATH)\n",
    "if df.isna().any().any():\n",
    "    df.fillna(\"\", inplace=True)\n",
    "\n",
    "\n",
    "# Gestione salvataggio immagini\n",
    "IMAGES_PATH = Path() / \"Images\" / \"Deep\"\n",
    "IMAGES_PATH.mkdir(parents=True, exist_ok=True)\n",
    "\n",
    "def save_fig(fig_id, tight_layout=True, fig_extension=\"png\", resolution=300):\n",
    "    path = IMAGES_PATH / f\"{fig_id}.{fig_extension}\"\n",
    "    if tight_layout:\n",
    "        plt.tight_layout()\n",
    "    plt.savefig(path, format=fig_extension, dpi=resolution)\n",
    "    return\n",
    "    \n",
    "# Gestione salvataggio e caricamento del modello di deep learning\n",
    "MODEL_PATH = Path() / \"Saved_models\" / \"Deep\"\n",
    "MODEL_PATH.mkdir(parents=True, exist_ok=True)\n",
    "\n",
    "# Salva il modello su un file di estensione default.tf\n",
    "def save_deep_model(model, model_name='deep_learning', model_extension=\"tf\"):\n",
    "    path = MODEL_PATH / f\"{model_name}.{model_extension}\"\n",
    "    try:\n",
    "        model.save(path)\n",
    "        print(f\"Modello salvato correttamente in: {path}\")\n",
    "    except Exception as e:\n",
    "        print(f\"Si è verificato un errore durante il salvataggio del modello: {e}\")\n",
    "        raise FileNotFoundError\n",
    "#end_function\n",
    "\n",
    "# Carica il modello dal file con estensione a default.tf\n",
    "def load_deep_model(model_name='deep_learning', model_extension=\"tf\"):\n",
    "    path = MODEL_PATH / f\"{model_name}.{model_extension}\"\n",
    "    if path.exists():\n",
    "        try:\n",
    "            model = load_model(path)\n",
    "            print(f\"Modello caricato correttamente da: {path}\")\n",
    "            return model\n",
    "        except Exception as e:\n",
    "            print(f\"Si è verificato un errore durante il caricamento del modello: {e}\")\n",
    "            raise\n",
    "    else:\n",
    "        error_msg = f\"Il file del modello non esiste: {path}\"\n",
    "        print(error_msg)\n",
    "        raise FileNotFoundError(error_msg)\n",
    "#end_function\n",
    "\n",
    "\n",
    "# Gestione salvataggio e caricamento del modello di word2vec\n",
    "WORD2VEC_PATH = Path() / \"Saved_models\" / \"Word2Vec\"\n",
    "WORD2VEC_PATH.mkdir(parents=True, exist_ok=True)\n",
    "\n",
    "# Salva il modello w2v su un file di estensione default.tf\n",
    "def save_w2v_model(model, model_name='word2vec', model_extension=\"model\"):\n",
    "    path = WORD2VEC_PATH / f\"{model_name}.{model_extension}\"\n",
    "    try:\n",
    "        model.save(str(path))\n",
    "        print(f\"Modello word2vec salvato correttamente in: {path}\")\n",
    "    except Exception as e:\n",
    "        print(f\"Si è verificato un errore durante il salvataggio del modello word2vec: {e}\")\n",
    "        raise FileNotFoundError\n",
    "#end_function\n",
    "\n",
    "# Carica il modello w2v dal file con estensione a default.tf\n",
    "def load_w2v_model(model_name='word2vec', model_extension=\"model\"):\n",
    "    path = WORD2VEC_PATH / f\"{model_name}.{model_extension}\"\n",
    "    if path.exists():\n",
    "        try:\n",
    "            model = Word2Vec.load(str(path))\n",
    "            print(f\"Modello word2vec caricato correttamente da: {path}\")\n",
    "            return model\n",
    "        except Exception as e:\n",
    "            print(f\"Si è verificato un errore durante il caricamento del modello word2vec: {e}\")\n",
    "            raise\n",
    "    else:\n",
    "        error_msg = f\"Il file del modello word2vec non esiste: {path}\"\n",
    "        print(error_msg)\n",
    "        raise FileNotFoundError(error_msg)\n",
    "#end_function"
   ],
   "id": "4bc6ef8d8aa6f4bb",
   "outputs": [],
   "execution_count": 2
  },
  {
   "metadata": {},
   "cell_type": "markdown",
   "source": "#### PREPARAZIONE DEI DATI PER IL MODELLO DI DEEP LEARNING",
   "id": "a59bb45c0d8122b9"
  },
  {
   "metadata": {
    "ExecuteTime": {
     "end_time": "2024-04-29T23:43:00.135740Z",
     "start_time": "2024-04-29T23:43:00.126491Z"
    }
   },
   "cell_type": "code",
   "source": [
    "# TRAIN VALID TEST SPLIT\n",
    "# questa cella deve essere eseguita anche se si carica da file un modello già addestrato\n",
    "X = df['cleaned_text'].values\n",
    "y = df['sentiment'].values\n",
    "\n",
    "# Divido i dati in training, validation e test sets\n",
    "X_train, X_temp, y_train, y_temp = train_test_split(X, y, test_size=0.2, random_state=42)\n",
    "X_valid, X_test, y_valid, y_test = train_test_split(X_temp, y_temp, test_size=0.5, random_state=42)"
   ],
   "id": "3967a529f9ab59fe",
   "outputs": [],
   "execution_count": 3
  },
  {
   "metadata": {
    "ExecuteTime": {
     "end_time": "2024-04-29T23:43:16.364387Z",
     "start_time": "2024-04-29T23:43:00.731373Z"
    }
   },
   "cell_type": "code",
   "source": [
    "# ADDESTRAMENTO DEL MODELLO WORD2VEC PER UN EMBEDDING PERSONALIZZATO\n",
    "# Definisco la dimensione di embedding\n",
    "EMBEDDING_SIZE = 128\n",
    "\n",
    "# nel mio caso 10 perché avendo una CPU con 11 core ne ho lasciato \n",
    "# uno libero per le classiche operazioni di sistema e background\n",
    "WORKERS = 10\n",
    "\n",
    "# Il Word2Vec ha bisogno di una lista di liste di token\n",
    "X_train_tokenized = [text.split() for text in X_train]\n",
    "w2v_model = Word2Vec(sentences=X_train_tokenized, vector_size=EMBEDDING_SIZE, window=5, min_count=1, workers=WORKERS)\n",
    "w2v_model.train(X_train_tokenized, total_examples=len(X_train_tokenized), epochs=10)\n",
    "\n",
    "# Verifico del numero di vettori di parole nel modello\n",
    "vocab_size_w2v = len(w2v_model.wv)\n",
    "print(f\"Word2Vec vocabulary size: {vocab_size_w2v}\")"
   ],
   "id": "2761dd311cb241e2",
   "outputs": [
    {
     "name": "stdout",
     "output_type": "stream",
     "text": [
      "Word2Vec vocabulary size: 121726\n"
     ]
    }
   ],
   "execution_count": 4
  },
  {
   "metadata": {},
   "cell_type": "markdown",
   "source": "#### Salvo il modello word2vec addestrato su file",
   "id": "4c09cacac8b239e8"
  },
  {
   "metadata": {
    "ExecuteTime": {
     "end_time": "2024-04-29T23:43:16.409450Z",
     "start_time": "2024-04-29T23:43:16.365385Z"
    }
   },
   "cell_type": "code",
   "source": [
    "# Salvo il modello w2v\n",
    "save_w2v_model(w2v_model)"
   ],
   "id": "d016a12fcffe0c1a",
   "outputs": [
    {
     "name": "stdout",
     "output_type": "stream",
     "text": [
      "Modello word2vec salvato correttamente in: Saved_models/Word2Vec/word2vec.model\n"
     ]
    }
   ],
   "execution_count": 5
  },
  {
   "metadata": {},
   "cell_type": "markdown",
   "source": "#### Carico il modello word2vec addestrato da file",
   "id": "ac71bad5c3500b73"
  },
  {
   "metadata": {
    "ExecuteTime": {
     "end_time": "2024-04-29T12:45:11.625219Z",
     "start_time": "2024-04-29T12:45:11.619693Z"
    }
   },
   "cell_type": "code",
   "source": "w2v_model = load_w2v_model()",
   "id": "dbc60a877b08b9dc",
   "outputs": [
    {
     "name": "stdout",
     "output_type": "stream",
     "text": [
      "Modello word2vec caricato correttamente da: Saved_models/Word2Vec/word2vec.model\n"
     ]
    }
   ],
   "execution_count": 4
  },
  {
   "metadata": {},
   "cell_type": "markdown",
   "source": "#### TOKENIZZAZIONE, MATRICE DI EMBEDDING",
   "id": "1a56825c5133b5b6"
  },
  {
   "metadata": {
    "ExecuteTime": {
     "end_time": "2024-04-29T23:43:20.126388Z",
     "start_time": "2024-04-29T23:43:16.410168Z"
    }
   },
   "cell_type": "code",
   "source": [
    "# Tokenizzazione\n",
    "WORDS_TO_KEEP = 15000\n",
    "tokenizer = Tokenizer(num_words=WORDS_TO_KEEP, oov_token=\"<OOV>\")\n",
    "tokenizer.fit_on_texts(X_train)\n",
    "\n",
    "# Parametri per configurare lo strato di embedding personalizzato\n",
    "# questo parametro specifica la lunghezza della matrice di embedding\n",
    "# settiamo il tutto pari alla dimensione totale del vocabolario\n",
    "entire_vocab_size = len(tokenizer.word_index) + 1\n",
    "print(f\"Vocabulary size: {entire_vocab_size}\")\n",
    "\n",
    "# Creazione della matrice di embedding\n",
    "embeddings_found = 0\n",
    "embedding_matrix = np.zeros((WORDS_TO_KEEP + 1, EMBEDDING_SIZE))\n",
    "\n",
    "for word, index in tokenizer.word_index.items():\n",
    "    # Metto minore o uguale perché gli indici iniziano da 1\n",
    "    if index <= WORDS_TO_KEEP: \n",
    "        if word in w2v_model.wv:\n",
    "            embedding_vector = w2v_model.wv[word]\n",
    "            if embedding_vector is not None:\n",
    "                embedding_matrix[index] = embedding_vector\n",
    "                embeddings_found += 1\n",
    "\n",
    "# check matrix creation\n",
    "if embeddings_found > 0:\n",
    "    print(f\"Embedding matrix created successfully. Words found in Word2Vec model: {embeddings_found}\")\n",
    "else:\n",
    "    print(\"No embeddings found. Check the Word2Vec model or the tokenizer's word_index.\")\n",
    "\n",
    "\n",
    "# Trasformo i dati per renderli compatibili con l'input della rete neurale\n",
    "X_train = tokenizer.texts_to_sequences(X_train)\n",
    "X_valid = tokenizer.texts_to_sequences(X_valid)\n",
    "X_test = tokenizer.texts_to_sequences(X_test)\n",
    "\n",
    "# Padding delle sequenze\n",
    "MAX_WORDS = 100 # una media delle parole contenute nelle 164000 recensioni amazon\n",
    "X_train = pad_sequences(X_train, maxlen=MAX_WORDS, padding='post')\n",
    "X_valid = pad_sequences(X_valid, maxlen=MAX_WORDS, padding='post')\n",
    "X_test  = pad_sequences(X_test, maxlen=MAX_WORDS, padding='post')\n",
    "\n",
    "# Controllo la distribuzione delle classi\n",
    "unique, counts = np.unique(y_train, return_counts=True)\n",
    "class_distribution = dict(zip(unique, counts))\n",
    "print(\"Distribuzione delle classi nel training set:\", class_distribution)"
   ],
   "id": "62c268463ed90d85",
   "outputs": [
    {
     "name": "stdout",
     "output_type": "stream",
     "text": [
      "Vocabulary size: 102269\n",
      "Embedding matrix created successfully. Words found in Word2Vec model: 14587\n",
      "Distribuzione delle classi nel training set: {0: 65604, 1: 65655}\n"
     ]
    }
   ],
   "execution_count": 6
  },
  {
   "metadata": {},
   "cell_type": "markdown",
   "source": [
    "## Architecture of the Neural Network\n",
    "\n",
    "This model is designed as a sequential model with multiple layers, each tailored to process and learn from textual data effectively:\n",
    "\n",
    "### Embedding Layer\n",
    "- **Input Dimension**: Set to `vocab_size`, covering the entire vocabulary.\n",
    "- **Output Dimension**: Defined by `embedding_size`, determining the size of the embedding vectors.\n",
    "- **Weights**: Initialized with a pre-trained `embedding_matrix` to leverage prior knowledge.\n",
    "- **Trainable**: Set to `True`, allowing the embeddings to update during training.\n",
    "- **Mask Zero**: Enables the layer to ignore padded zeros in sequences.\n",
    "\n",
    "### Convolutional Layer (Conv1D)\n",
    "- **Filters**: Utilizes `conv_filters` filters to extract features from the embedded word representations.\n",
    "- **Kernel Size**: Each filter has a window of `conv_kernel_size` words to capture local context.\n",
    "- **Activation**: Relies on the 'ReLU' function to introduce non-linearity.\n",
    "- **Kernel Initializer**: Uses `GlorotUniform` to initialize weights with a method designed to facilitate convergence.\n",
    "- **Bias Initializer**: Starts with zeros.\n",
    "- **Padding**: Applies 'same' padding to maintain output length equal to input length.\n",
    "- **Strides**: Set to `1`, processing every element without skipping.\n",
    "\n",
    "### Pooling Layer (MaxPooling1D)\n",
    "- **Pool Size**: Set to `max_pool_size` to reduce the dimensionality by taking the maximum value over the window.\n",
    "\n",
    "### Recurrent Layer (Bidirectional LSTM)\n",
    "- **Units**: Features `lstm_units`, capturing long-term dependencies from both directions of the sequences.\n",
    "- **Return Sequences**: The first LSTM returns full sequences for further temporal processing.\n",
    "- **Dropout**: Utilizes `dropout_rate` to prevent overfitting by randomly setting a fraction of the input units to 0.\n",
    "- **Kernel Regularizer**: Employs L2 regularization with a lambda of `regl2_lambda`.\n",
    "\n",
    "### Dense Layer\n",
    "- **Units**: Configured with `neurons` units, fully connected to the preceding layer.\n",
    "- **Activation**: Uses 'ReLU' for non-linear transformations.\n",
    "- **Kernel Initializer**: Applies `HeNormal` to initialize weights in a way that maintains the scale of the gradients.\n",
    "\n",
    "### Dropout Layer\n",
    "- Further applies dropout with `dropout_rate` to reduce overfitting.\n",
    "\n",
    "### Output Layer\n",
    "- **Activation**: Uses a 'Sigmoid' function to output a probability, indicating the likelihood of the input belonging to the positive class.\n",
    "\n",
    "This carefully constructed architecture is aimed at providing a nuanced understanding of textual data, facilitating complex tasks such as sentiment analysis on Amazon reviews.\n"
   ],
   "id": "2cdbe1beb1c721ef"
  },
  {
   "metadata": {
    "ExecuteTime": {
     "end_time": "2024-04-30T00:05:32.501762Z",
     "start_time": "2024-04-29T23:43:20.127642Z"
    }
   },
   "cell_type": "code",
   "source": [
    "# PARAMETRI DEL MODELLO\n",
    "# Numero di filtri nel tuo strato convoluzionale, influenzerà il numero di caratteristiche estratte.\n",
    "CONV_FILTERS = 128\n",
    "# Dimensione del kernel determina come le caratteristiche vengono estratte localmente.\n",
    "CONV_KERNEL_SIZE = 3\n",
    "# Riduce la dimensione spaziale (per i dati 1D) del risultato del conv_layer, \n",
    "# riducendo la complessità computazionale e il rischio di overfitting.\n",
    "POOL_SIZE = 2\n",
    "# Numero di unità in ciascuno strato LSTM, deve essere una potenza di due.\n",
    "LSTM_UNITS = 128\n",
    "# Tasso di dropout per prevenire l'overfitting durante il training.\n",
    "DROPOUT = 0.3\n",
    "# Learning rate per la regolarizzazione e l'addestramento del modello.\n",
    "LEARNING_RATE = 0.001\n",
    "# Regolarizzazione L2 per penalizzare i pesi grandi durante il training.\n",
    "kernel_regularizer = l2(LEARNING_RATE)\n",
    "# Numero di neuroni negli strati densi.\n",
    "NEURONS = 128\n",
    "# Dimensione del batch per l'addestramento.\n",
    "BATCH_SIZE = 64\n",
    "# Numero di epoche durante il training.\n",
    "EPOCHS = 15\n",
    "# Seed per la generazione di numeri casuali per garantire la riproducibilità dei risultati.\n",
    "tf.random.set_seed(42)\n",
    "\n",
    "\n",
    "# CREAZIONE RETE NEURALE PROFONDA\n",
    "model = Sequential([\n",
    "    # Strato di embedding PERSONALIZZATO per convertire gli indici delle parole in vettori densi\n",
    "    # Utilizza una matrice di pesi addestrata nelle celle precedenti e aggiornabile \n",
    "    # durante l'addestramento. Grazie al parametro mask_zero=True\n",
    "    # Ignora gli zeri inseriti per il padding nelle sequenze e questo agevola tantissimo\n",
    "    # la capacità di generalizzare del modello di deep learning.\n",
    "    Embedding(input_dim=WORDS_TO_KEEP + 1, # il +1 serve per il token OOV\n",
    "              output_dim=EMBEDDING_SIZE,\n",
    "              weights=[embedding_matrix],\n",
    "              trainable=True,\n",
    "              mask_zero=True),\n",
    "    \n",
    "    # Strato convoluzionale 1D per estrarre caratteristiche locali\n",
    "    # Utilizza funzione di attivazione ReLU per la non linearità e\n",
    "    # padding 'same' per mantenere la dimensione\n",
    "    Conv1D(filters=CONV_FILTERS,\n",
    "           kernel_size=CONV_KERNEL_SIZE,\n",
    "           activation='relu',\n",
    "           kernel_initializer=GlorotUniform(),\n",
    "           bias_initializer='zeros',\n",
    "           padding='same',\n",
    "           strides=1),\n",
    "    \n",
    "    # Strato di Batch Normalization dopo Conv1D\n",
    "    BatchNormalization(),\n",
    "    \n",
    "    # Strato di pooling per ridurre la dimensionalità e migliorare l'efficienza computazionale\n",
    "    MaxPooling1D(pool_size=POOL_SIZE),\n",
    "    \n",
    "    # Primo strato LSTM bidirezionale per catturare dipendenze a lungo termine in entrambe le direzioni\n",
    "    # Restituisce sequenze per permettere connessioni tra i passaggi temporali consecutivi\n",
    "    Bidirectional(LSTM(LSTM_UNITS, \n",
    "                       return_sequences=True, \n",
    "                       dropout=DROPOUT,\n",
    "                       #recurrent_dropout=dropout_rate, \n",
    "                       kernel_regularizer=kernel_regularizer)),\n",
    "    \n",
    "    # Secondo strato LSTM bidirezionale per raffinare ulteriormente l'apprendimento delle dipendenze\n",
    "    Bidirectional(LSTM(LSTM_UNITS, \n",
    "                       dropout=DROPOUT, \n",
    "                       #recurrent_dropout=dropout_rate, \n",
    "                       kernel_regularizer=kernel_regularizer)),\n",
    "    \n",
    "    # Strato denso per la classificazione con regolarizzazione L2 e inizializzazione di Kaiming He\n",
    "    Dense(units=NEURONS, activation='relu', kernel_regularizer=kernel_regularizer, kernel_initializer=HeNormal()),\n",
    "    \n",
    "    # Strato di dropout per ridurre il rischio di overfitting\n",
    "    Dropout(DROPOUT),\n",
    "    \n",
    "    # Strato di output che usa la funzione sigmoid per la classificazione binaria\n",
    "    Dense(1, activation='sigmoid')\n",
    "])\n",
    "#end_model\n",
    "\n",
    "# stampa layout testuale della rete\n",
    "print(model.summary())\n",
    "\n",
    "# stampa grafico della rete neurale\n",
    "tf.keras.utils.plot_model(model=model,\n",
    "                          to_file=\"Images/Deep/neural_network.png\",\n",
    "                          dpi=96,\n",
    "                          show_shapes=True)\n",
    "\n",
    "\n",
    "# Compilazione del modello\n",
    "# come ottimizzatore uso la versione legacy perché più veloce sugli Apple Silicon\n",
    "# uso RMSprop perché funziona bene sui dati di testo.\n",
    "model.compile(optimizer=tf.keras.optimizers.legacy.RMSprop(learning_rate=LEARNING_RATE),\n",
    "              loss='binary_crossentropy',\n",
    "              metrics=['accuracy'])\n",
    "\n",
    "# Callbacks\n",
    "reduce_lr = ReduceLROnPlateau(monitor='val_loss', factor=0.2, patience=5, min_lr=0.0001)\n",
    "early_stop = EarlyStopping(monitor='val_loss', patience=8)\n",
    "checkpoint = ModelCheckpoint(\"Saved_models/check_point_nn.h5\", save_best_only=True)\n",
    "\n",
    "# Addestramento modello\n",
    "history = model.fit(x=X_train,\n",
    "                    y=y_train,\n",
    "                    epochs=EPOCHS,\n",
    "                    batch_size=BATCH_SIZE,\n",
    "                    validation_data=(X_valid, y_valid),\n",
    "                    class_weight=class_distribution,\n",
    "                    verbose='auto',\n",
    "                    use_multiprocessing=True, \n",
    "                    workers=WORKERS,\n",
    "                    callbacks=[reduce_lr, early_stop, checkpoint],)\n",
    "\n",
    "# Valutazione sul set di test\n",
    "test_loss, test_accuracy = model.evaluate(X_test, y_test)\n",
    "print(\"Accuratezza sul test set:\", test_accuracy)\n",
    "\n",
    "# Previsioni sul set di test\n",
    "probabilities = model.predict(X_test)\n",
    "predictions = (probabilities > 0.5).astype(int)\n",
    "\n",
    "# Generazione del classification report\n",
    "report = classification_report(y_test, predictions, target_names=['Negativa', 'Positiva'])\n",
    "print(\"Classification Report:\\n\", report)\n",
    "conf_matrix = confusion_matrix(y_test, predictions)\n",
    "print(\"Matrice di Confusione:\\n\", conf_matrix)"
   ],
   "id": "ca5d9d27e8288931",
   "outputs": [
    {
     "name": "stderr",
     "output_type": "stream",
     "text": [
      "2024-04-30 01:43:20.143810: I metal_plugin/src/device/metal_device.cc:1154] Metal device set to: Apple M3 Pro\n",
      "2024-04-30 01:43:20.143828: I metal_plugin/src/device/metal_device.cc:296] systemMemory: 18.00 GB\n",
      "2024-04-30 01:43:20.143831: I metal_plugin/src/device/metal_device.cc:313] maxCacheSize: 6.00 GB\n",
      "2024-04-30 01:43:20.144221: I tensorflow/core/common_runtime/pluggable_device/pluggable_device_factory.cc:303] Could not identify NUMA node of platform GPU ID 0, defaulting to 0. Your kernel may not have been built with NUMA support.\n",
      "2024-04-30 01:43:20.144510: I tensorflow/core/common_runtime/pluggable_device/pluggable_device_factory.cc:269] Created TensorFlow device (/job:localhost/replica:0/task:0/device:GPU:0 with 0 MB memory) -> physical PluggableDevice (device: 0, name: METAL, pci bus id: <undefined>)\n"
     ]
    },
    {
     "name": "stdout",
     "output_type": "stream",
     "text": [
      "Model: \"sequential\"\n",
      "_________________________________________________________________\n",
      " Layer (type)                Output Shape              Param #   \n",
      "=================================================================\n",
      " embedding (Embedding)       (None, None, 128)         1920128   \n",
      "                                                                 \n",
      " conv1d (Conv1D)             (None, None, 128)         49280     \n",
      "                                                                 \n",
      " batch_normalization (Batch  (None, None, 128)         512       \n",
      " Normalization)                                                  \n",
      "                                                                 \n",
      " max_pooling1d (MaxPooling1  (None, None, 128)         0         \n",
      " D)                                                              \n",
      "                                                                 \n",
      " bidirectional (Bidirection  (None, None, 256)         263168    \n",
      " al)                                                             \n",
      "                                                                 \n",
      " bidirectional_1 (Bidirecti  (None, 256)               394240    \n",
      " onal)                                                           \n",
      "                                                                 \n",
      " dense (Dense)               (None, 128)               32896     \n",
      "                                                                 \n",
      " dropout (Dropout)           (None, 128)               0         \n",
      "                                                                 \n",
      " dense_1 (Dense)             (None, 1)                 129       \n",
      "                                                                 \n",
      "=================================================================\n",
      "Total params: 2660353 (10.15 MB)\n",
      "Trainable params: 2660097 (10.15 MB)\n",
      "Non-trainable params: 256 (1.00 KB)\n",
      "_________________________________________________________________\n",
      "None\n",
      "Epoch 1/15\n"
     ]
    },
    {
     "name": "stderr",
     "output_type": "stream",
     "text": [
      "2024-04-30 01:43:22.396100: I tensorflow/core/grappler/optimizers/custom_graph_optimizer_registry.cc:114] Plugin optimizer for device_type GPU is enabled.\n",
      "2024-04-30 01:43:23.021344: I tensorflow/core/grappler/optimizers/custom_graph_optimizer_registry.cc:114] Plugin optimizer for device_type GPU is enabled.\n",
      "2024-04-30 01:43:23.032491: I tensorflow/core/grappler/optimizers/custom_graph_optimizer_registry.cc:114] Plugin optimizer for device_type GPU is enabled.\n",
      "2024-04-30 01:43:23.124558: I tensorflow/core/grappler/optimizers/custom_graph_optimizer_registry.cc:114] Plugin optimizer for device_type GPU is enabled.\n",
      "2024-04-30 01:43:23.135037: I tensorflow/core/grappler/optimizers/custom_graph_optimizer_registry.cc:114] Plugin optimizer for device_type GPU is enabled.\n",
      "2024-04-30 01:43:23.362786: I tensorflow/core/grappler/optimizers/custom_graph_optimizer_registry.cc:114] Plugin optimizer for device_type GPU is enabled.\n",
      "2024-04-30 01:43:23.376710: I tensorflow/core/grappler/optimizers/custom_graph_optimizer_registry.cc:114] Plugin optimizer for device_type GPU is enabled.\n",
      "2024-04-30 01:43:23.572824: I tensorflow/core/grappler/optimizers/custom_graph_optimizer_registry.cc:114] Plugin optimizer for device_type GPU is enabled.\n",
      "2024-04-30 01:43:23.601115: I tensorflow/core/grappler/optimizers/custom_graph_optimizer_registry.cc:114] Plugin optimizer for device_type GPU is enabled.\n"
     ]
    },
    {
     "name": "stdout",
     "output_type": "stream",
     "text": [
      "2051/2051 [==============================] - ETA: 0s - loss: 20475.1113 - accuracy: 0.8677"
     ]
    },
    {
     "name": "stderr",
     "output_type": "stream",
     "text": [
      "2024-04-30 01:45:37.226984: I tensorflow/core/grappler/optimizers/custom_graph_optimizer_registry.cc:114] Plugin optimizer for device_type GPU is enabled.\n",
      "2024-04-30 01:45:37.377476: I tensorflow/core/grappler/optimizers/custom_graph_optimizer_registry.cc:114] Plugin optimizer for device_type GPU is enabled.\n",
      "2024-04-30 01:45:37.384869: I tensorflow/core/grappler/optimizers/custom_graph_optimizer_registry.cc:114] Plugin optimizer for device_type GPU is enabled.\n",
      "2024-04-30 01:45:37.455001: I tensorflow/core/grappler/optimizers/custom_graph_optimizer_registry.cc:114] Plugin optimizer for device_type GPU is enabled.\n",
      "2024-04-30 01:45:37.470357: I tensorflow/core/grappler/optimizers/custom_graph_optimizer_registry.cc:114] Plugin optimizer for device_type GPU is enabled.\n"
     ]
    },
    {
     "name": "stdout",
     "output_type": "stream",
     "text": [
      "2051/2051 [==============================] - 145s 69ms/step - loss: 20475.1113 - accuracy: 0.8677 - val_loss: 2.3271 - val_accuracy: 0.8865 - lr: 0.0010\n",
      "Epoch 2/15\n",
      "2051/2051 [==============================] - 143s 70ms/step - loss: 15713.7539 - accuracy: 0.9021 - val_loss: 3.1077 - val_accuracy: 0.9131 - lr: 0.0010\n",
      "Epoch 3/15\n",
      "2051/2051 [==============================] - 140s 68ms/step - loss: 13861.2256 - accuracy: 0.9165 - val_loss: 3.9854 - val_accuracy: 0.9125 - lr: 0.0010\n",
      "Epoch 4/15\n",
      "2051/2051 [==============================] - 144s 70ms/step - loss: 12681.1826 - accuracy: 0.9228 - val_loss: 4.9575 - val_accuracy: 0.9186 - lr: 0.0010\n",
      "Epoch 5/15\n",
      "2051/2051 [==============================] - 143s 70ms/step - loss: 11933.5068 - accuracy: 0.9279 - val_loss: 5.9259 - val_accuracy: 0.9219 - lr: 0.0010\n",
      "Epoch 6/15\n",
      "2051/2051 [==============================] - 145s 71ms/step - loss: 11345.4336 - accuracy: 0.9327 - val_loss: 6.8999 - val_accuracy: 0.9164 - lr: 0.0010\n",
      "Epoch 7/15\n",
      "2051/2051 [==============================] - 150s 73ms/step - loss: 9605.0078 - accuracy: 0.9426 - val_loss: 6.9793 - val_accuracy: 0.9286 - lr: 2.0000e-04\n",
      "Epoch 8/15\n",
      "2051/2051 [==============================] - 147s 71ms/step - loss: 9179.1992 - accuracy: 0.9446 - val_loss: 7.0719 - val_accuracy: 0.9286 - lr: 2.0000e-04\n",
      "Epoch 9/15\n",
      "2051/2051 [==============================] - 149s 73ms/step - loss: 8791.5146 - accuracy: 0.9475 - val_loss: 7.1879 - val_accuracy: 0.9297 - lr: 2.0000e-04\n",
      "513/513 [==============================] - 17s 33ms/step - loss: 7.1985 - accuracy: 0.9263\n",
      "Accuratezza sul test set: 0.926255464553833\n"
     ]
    },
    {
     "name": "stderr",
     "output_type": "stream",
     "text": [
      "2024-04-30 02:05:25.161189: I tensorflow/core/grappler/optimizers/custom_graph_optimizer_registry.cc:114] Plugin optimizer for device_type GPU is enabled.\n",
      "2024-04-30 02:05:25.265969: I tensorflow/core/grappler/optimizers/custom_graph_optimizer_registry.cc:114] Plugin optimizer for device_type GPU is enabled.\n",
      "2024-04-30 02:05:25.273269: I tensorflow/core/grappler/optimizers/custom_graph_optimizer_registry.cc:114] Plugin optimizer for device_type GPU is enabled.\n",
      "2024-04-30 02:05:25.349129: I tensorflow/core/grappler/optimizers/custom_graph_optimizer_registry.cc:114] Plugin optimizer for device_type GPU is enabled.\n",
      "2024-04-30 02:05:25.356516: I tensorflow/core/grappler/optimizers/custom_graph_optimizer_registry.cc:114] Plugin optimizer for device_type GPU is enabled.\n"
     ]
    },
    {
     "name": "stdout",
     "output_type": "stream",
     "text": [
      "513/513 [==============================] - 8s 14ms/step\n",
      "Classification Report:\n",
      "               precision    recall  f1-score   support\n",
      "\n",
      "    Negativa       0.93      0.92      0.93      8216\n",
      "    Positiva       0.92      0.93      0.93      8192\n",
      "\n",
      "    accuracy                           0.93     16408\n",
      "   macro avg       0.93      0.93      0.93     16408\n",
      "weighted avg       0.93      0.93      0.93     16408\n",
      "\n",
      "Matrice di Confusione:\n",
      " [[7554  662]\n",
      " [ 548 7644]]\n"
     ]
    }
   ],
   "execution_count": 7
  },
  {
   "metadata": {},
   "cell_type": "markdown",
   "source": "### SALVATAGGIO E CARICAMENTO DEL MODELLO",
   "id": "8432b8e5b2bbfc63"
  },
  {
   "metadata": {
    "ExecuteTime": {
     "end_time": "2024-04-30T00:35:07.324147Z",
     "start_time": "2024-04-30T00:35:02.143464Z"
    }
   },
   "cell_type": "code",
   "source": [
    "# Salvo il modello trainato\n",
    "save_deep_model(model)"
   ],
   "id": "952fe967f5dc77f3",
   "outputs": [
    {
     "name": "stdout",
     "output_type": "stream",
     "text": [
      "INFO:tensorflow:Assets written to: Saved_models/Deep/deep_learning.tf/assets\n"
     ]
    },
    {
     "name": "stderr",
     "output_type": "stream",
     "text": [
      "INFO:tensorflow:Assets written to: Saved_models/Deep/deep_learning.tf/assets\n"
     ]
    },
    {
     "name": "stdout",
     "output_type": "stream",
     "text": [
      "Modello salvato correttamente in: Saved_models/Deep/deep_learning.tf\n"
     ]
    }
   ],
   "execution_count": 8
  },
  {
   "metadata": {
    "ExecuteTime": {
     "end_time": "2024-04-29T12:45:33.640261Z",
     "start_time": "2024-04-29T12:45:31.172708Z"
    }
   },
   "cell_type": "code",
   "source": [
    "# Carico il modello trainato \n",
    "model = load_deep_model()"
   ],
   "id": "91dc91a81325a2ef",
   "outputs": [
    {
     "name": "stderr",
     "output_type": "stream",
     "text": [
      "2024-04-29 14:45:31.207461: I metal_plugin/src/device/metal_device.cc:1154] Metal device set to: Apple M3 Pro\n",
      "2024-04-29 14:45:31.207486: I metal_plugin/src/device/metal_device.cc:296] systemMemory: 18.00 GB\n",
      "2024-04-29 14:45:31.207491: I metal_plugin/src/device/metal_device.cc:313] maxCacheSize: 6.00 GB\n",
      "2024-04-29 14:45:31.207526: I tensorflow/core/common_runtime/pluggable_device/pluggable_device_factory.cc:303] Could not identify NUMA node of platform GPU ID 0, defaulting to 0. Your kernel may not have been built with NUMA support.\n",
      "2024-04-29 14:45:31.207544: I tensorflow/core/common_runtime/pluggable_device/pluggable_device_factory.cc:269] Created TensorFlow device (/job:localhost/replica:0/task:0/device:GPU:0 with 0 MB memory) -> physical PluggableDevice (device: 0, name: METAL, pci bus id: <undefined>)\n"
     ]
    },
    {
     "name": "stdout",
     "output_type": "stream",
     "text": [
      "Modello caricato correttamente da: Saved_models/Deep/deep_learning.tf\n"
     ]
    }
   ],
   "execution_count": 6
  },
  {
   "metadata": {},
   "cell_type": "markdown",
   "source": "#### Opzionale: VALUTAZIONE DEL MODELLO dopo averlo caricato da file",
   "id": "b9d66080a3cb7884"
  },
  {
   "metadata": {
    "ExecuteTime": {
     "end_time": "2024-04-29T12:45:42.390074Z",
     "start_time": "2024-04-29T12:45:35.123303Z"
    }
   },
   "cell_type": "code",
   "source": [
    "# Previsioni sul set di test\n",
    "probabilities = model.predict(X_test)\n",
    "predictions = (probabilities > 0.5).astype(int)\n",
    "\n",
    "# Generazione del classification report\n",
    "report = classification_report(y_test, predictions, target_names=['Negativa', 'Positiva'])\n",
    "print(\"Classification Report:\\n\", report)\n",
    "conf_matrix = confusion_matrix(y_test, predictions)\n",
    "print(\"Matrice di Confusione:\\n\", conf_matrix)"
   ],
   "id": "4e9ce03413663fce",
   "outputs": [
    {
     "name": "stderr",
     "output_type": "stream",
     "text": [
      "2024-04-29 14:45:35.389487: I tensorflow/core/grappler/optimizers/custom_graph_optimizer_registry.cc:114] Plugin optimizer for device_type GPU is enabled.\n",
      "2024-04-29 14:45:35.510889: I tensorflow/core/grappler/optimizers/custom_graph_optimizer_registry.cc:114] Plugin optimizer for device_type GPU is enabled.\n",
      "2024-04-29 14:45:35.522965: I tensorflow/core/grappler/optimizers/custom_graph_optimizer_registry.cc:114] Plugin optimizer for device_type GPU is enabled.\n"
     ]
    },
    {
     "name": "stdout",
     "output_type": "stream",
     "text": [
      " 10/513 [..............................] - ETA: 6s"
     ]
    },
    {
     "name": "stderr",
     "output_type": "stream",
     "text": [
      "2024-04-29 14:45:35.591491: I tensorflow/core/grappler/optimizers/custom_graph_optimizer_registry.cc:114] Plugin optimizer for device_type GPU is enabled.\n",
      "2024-04-29 14:45:35.599457: I tensorflow/core/grappler/optimizers/custom_graph_optimizer_registry.cc:114] Plugin optimizer for device_type GPU is enabled.\n"
     ]
    },
    {
     "name": "stdout",
     "output_type": "stream",
     "text": [
      "513/513 [==============================] - 7s 13ms/step\n",
      "Classification Report:\n",
      "               precision    recall  f1-score   support\n",
      "\n",
      "    Negativa       0.93      0.92      0.93      8216\n",
      "    Positiva       0.92      0.93      0.93      8192\n",
      "\n",
      "    accuracy                           0.93     16408\n",
      "   macro avg       0.93      0.93      0.93     16408\n",
      "weighted avg       0.93      0.93      0.93     16408\n",
      "\n",
      "Matrice di Confusione:\n",
      " [[7583  633]\n",
      " [ 565 7627]]\n"
     ]
    }
   ],
   "execution_count": 7
  },
  {
   "metadata": {},
   "cell_type": "markdown",
   "source": "### VISUALIZZAZIONE METRICHE DI PERFORMANCE",
   "id": "50d6848b28ce498a"
  },
  {
   "metadata": {
    "ExecuteTime": {
     "end_time": "2024-04-30T00:35:18.235916Z",
     "start_time": "2024-04-30T00:35:17.524612Z"
    }
   },
   "cell_type": "code",
   "source": [
    "import matplotlib.pyplot as plt\n",
    "import seaborn as sns\n",
    "from sklearn.metrics import roc_curve, auc, precision_recall_curve\n",
    "\n",
    "# Plotto la matrice di confusione\n",
    "plt.figure(figsize=(7, 5))\n",
    "sns.heatmap(conf_matrix, annot=True, fmt=\"d\", cmap='Blues', xticklabels=['Negativa', 'Positiva'], yticklabels=['Negativa', 'Positiva'])\n",
    "plt.xlabel('Predicted')\n",
    "plt.ylabel('True')\n",
    "plt.title('Confusion Matrix')\n",
    "save_fig('confusion_matrix')\n",
    "plt.show()\n",
    "\n",
    "# Calcolo e plotto la curva ROC\n",
    "fpr, tpr, thresholds = roc_curve(y_test, probabilities)\n",
    "roc_auc = auc(fpr, tpr)\n",
    "\n",
    "plt.figure(figsize=(7, 5))\n",
    "plt.plot(fpr, tpr, color='darkorange', lw=2, label='ROC curve (area = %0.2f)' % roc_auc)\n",
    "plt.plot([0, 1], [0, 1], color='navy', lw=2, linestyle='--')\n",
    "plt.xlim([0.0, 1.0])\n",
    "plt.ylim([0.0, 1.05])\n",
    "plt.xlabel('False Positive Rate')\n",
    "plt.ylabel('True Positive Rate')\n",
    "plt.title('Receiver Operating Characteristic Curve')\n",
    "plt.legend(loc=\"lower right\")\n",
    "save_fig('roc_auc')\n",
    "plt.show()\n",
    "\n",
    "# Calcolo e plotto la Precision-Recall curve\n",
    "precision, recall, _ = precision_recall_curve(y_test, probabilities)\n",
    "\n",
    "plt.figure(figsize=(7, 5))\n",
    "plt.plot(recall, precision, color='blue', lw=2, label='Precision-Recall curve')\n",
    "plt.xlabel('Recall')\n",
    "plt.ylabel('Precision')\n",
    "plt.title('Precision-Recall Curve')\n",
    "plt.legend(loc=\"lower left\")\n",
    "save_fig('precision_recall')\n",
    "plt.show()\n"
   ],
   "id": "6acdd8e429a25f2",
   "outputs": [
    {
     "data": {
      "text/plain": [
       "<Figure size 700x500 with 2 Axes>"
      ],
      "image/png": "[encoded data removed]"
     },
     "metadata": {},
     "output_type": "display_data"
    },
    {
     "data": {
      "text/plain": [
       "<Figure size 700x500 with 1 Axes>"
      ],
      "image/png": "[encoded data removed]"
     },
     "metadata": {},
     "output_type": "display_data"
    },
    {
     "data": {
      "text/plain": [
       "<Figure size 700x500 with 1 Axes>"
      ],
      "image/png": "[encoded data removed]"
     },
     "metadata": {},
     "output_type": "display_data"
    }
   ],
   "execution_count": 9
  },
  {
   "metadata": {},
   "cell_type": "markdown",
   "source": "#### SIMULAZIONE PREDIZIONE SENTIMENT DA REVIEW DI PRODOTTI SCELTI A CASO SU AMAZON",
   "id": "db3e1f499b04e19b"
  },
  {
   "metadata": {
    "ExecuteTime": {
     "end_time": "2024-04-30T00:35:35.779114Z",
     "start_time": "2024-04-30T00:35:35.097516Z"
    }
   },
   "cell_type": "code",
   "source": [
    "from clean_text_script import clean_text\n",
    "\n",
    "def predict_review(model, review):\n",
    "    review_seq = tokenizer.texts_to_sequences([review])\n",
    "    review_pad = pad_sequences(review_seq, maxlen=128, padding='post')\n",
    "    probability = model.predict(review_pad)\n",
    "    return 'Positiva' if probability[0][0] > 0.5 else 'Negativa'\n",
    "\n",
    "\n",
    "reviews = [\n",
    "     # Una recensione presa a caso da amazon americano con 4 stelle (e quindi sentiment positivo)\n",
    "     # Non è subito chiaro che il sentiment fosse positivo, ma il modello l'ha predetto correttamente.\n",
    "    \"I normally wear a size 10, in this case, I had to re-order for size 10.5. Also, the size 10 Gravel/Lime color did not have a logo on both sides. Size 10.5 had the logo on both sides.\" , \n",
    "           \n",
    "     #ok      \n",
    "    \"shoes look bigger and chunkier in person than i would like. they are comfortable though and fit nicely. supportive and comfortable. they sort of remind me of a shoe an older man would wear.\", \n",
    "           \n",
    "    \"The shoes are really nice and look nice. 2 stars just because after throwing the box away realized they came in the wrong wide so now i have a loose wide shoes (Cant return them without the box). Be carefull when checking the wide after receiving them\", \n",
    "           \n",
    "    \"The color tone between the two shoes is different, left shoe is more lighter than the right shoe and quality is not as I expected. Thanks\",\n",
    "           \n",
    "    \"I’ve been wearing Under Armour shoes for a little while now, having owned 3 pairs of the Charged Assert 9s. I got these and decided to go for the grey/green color. They are very comfortable, giving me solid arch support and general comfort, however the color on the website/app is a bit misleading. I’ll update with a photo when I’ve got them in front of me, but the grey shown on the app is not at all what grey the shoes actually are for me. The photo shows a dark grey but mine are very much a light grey, which was disappointing. Also the laces aren’t the same length, which is annoying but not a deal breaker, and also was the case with my other Under Armour shoes.\",\n",
    "           \n",
    "    \"I like that it is relatively cheap for $75. And can hold up to 275lbs it says. The design and details are cool. I don't like that I had to order the same chair 3 times, to get one where the bolt holes were easy to screw in fully.\",\n",
    "           \n",
    "    \"Started ripping after 3 months or so. My 11 year old has had this chair for 6 months, and this is how it looks. I find pieces of it broken off and flaking all under his desk. Really disappointing. =(\",\n",
    "           \n",
    "    \"I will use it all day every day for work and it’s super comfortable real easy to put together and prizing Lee sturdy for the great cost\",\n",
    "           \n",
    "     \"I used clay litter for the longest but it had really started to aggravate my nostrils and eyes every time i scooped or changed the box, so i switched to crystal. You dont need to get that fancy pretty litter if all youre looking for is regular crystal litter, because this works just fine. My cat adjusted to it very easily and there is virtually no dust from the crystal litter. I will say that if you dont change it soon enough the smell or cat urine gets eye wateringly strong, but thats a maintenance problem, not a litter problem. I used this with my one cat perfectly and it could probably support two or maybe three if you changed it a little earlier. However my family used this same litter with their ungodly amount of cats and scooping and changing those litterboxes made me want to throw up with how bad the smell was. The absorbed urine litter gets stuck to the bottom so whenever you change it, it almost burns your eyes. This was only the case with many cats. With my one cat it is fine as long as you change it monthly. No health issues and the smell is way better than clay. Please only use this with the minimal amount of cats. If that were my bathroom in a house full of cats, i would run away. Not to be dramatic.\",\n",
    "           \n",
    "     # qui capiamo quanto gli umani sappiano essere illogici, anche io avrei pensato fosse una recensione negativa, però il recensore ha dato 4 stelle... \n",
    "     \"Most of my cats like it, some wont use it so I still have to buy 2 brands. This is so much better than pretty litter in terms of smell, however, its very hard to clean the litter box. The dirty litter adheres to the bottom of the litter pan. There is still quite a bit of dust as well. Given the products price it is not really economical at all. I think I'm sticking with tidy cat light.\",\n",
    "           \n",
    "     # anche in questa, l'utente ha dato 4 stelle, ma non traspare sentiment positivo... anche qui il modello ha colto bene!\n",
    "     \"It absorbs good but is dusty when stirred. Our cat tracks at least as much grit as with clay based litter.\",\n",
    "           \n",
    "     # anche qui, ha dato 4 stelle, ma i lati negativi superano di gran lunga quelli positivi, lasciando intendere un sentiment negativo, che IL MODELLO HA COLTO! ma ovviamente l'umano ha dato 4 stelle.\n",
    "     \"Pros Less tracking than regular clay litter No smelly urine clumps to scoop No clumps at the bottom of the litter box Other than daily maintenance, there's no need to clean the litter box as frequently as with clay litter Cons There is tracking It's not scented It's not dust free there's significantly less dust but be careful when stirrin The crystals were too large to fit through my small diameter scoop however, they were too small for a larger diameter scoop. This resulted in difficulty getting the small poo clumps without discarding a lot of clean litter\"\n",
    "           \n",
    "     \"Let me start off by saying, I've owned an all black Duro for almost 2 years now and absolutely love it. but I've always wanted a steel bracelet for it and they finally came out with one. but my god this thing is cheap. it's very jingly-jangly and just cheap sounding. worst of all, it took me probably 45 minutes of tinkering and trying to find just the right improvised tool/pen/knife/staple to adjust to fit my wrist. i would have gladly paid a little more for a better bracelet. watch looks great though! the 2 marlins are so cool on the dial and case-back!\",\n",
    "            \n",
    "      # ha dato 4 stelle, ma è ovvio che non traspare alcun sentiment positivo da questa recensione, ancora una volta il modello ha colto in pieno!\n",
    "     \"Actual watch looks much dull compared to the picture posted on Amazon. It is not luminescent so you cannot keep time at night. It is just a very ordinary analog quartz watch. Of course, engineering from casio would be fantastic, This watch looks cheap compared to the other castles I bought.\",\n",
    "           \n",
    "      # La parte finale avrebbe potuto sviare il modello, ma in realtà è stato colto l'intero senso del discorso, ergo la 4 stelle positive date dall'utente si riflettono in un sentiment positivo prontamente colto dal modello!\n",
    "     \"Wanted an everyday watch that I can wear when doing chores and working out without worrying about banging up my more expensive watch. Also, I wanted a watch that I can wear when I start swimming again when my pool warms up. This Casio battery-operated watch fits the bill. The watch has a nice weight and the rubber band is comfortable. The watch seems to keep good time. The rotating bezel is a nice feature. The watch has the appearance of one costing a great deal more. The only reason I gave it four stars is because the date window is very small and hard to read, at least for me. All in all, though, a very nice watch for the price.\",\n",
    "           \n",
    "     \"For those interested in the green version, the actual watch is much darker than the watch pictured. The description definitely says green & green it is. I really liked the teal dial pictured. Inexpensive but well made\",\n",
    "           \n",
    "      # ok, anche qui, l'utente da 4 stelle ma sembra che gli abbiano insultato la madre, il modello ovviamente ha colto bene che qui trattasi di sentiment sicuramete non positivo!\n",
    "     \"This Casio has nice massive stainless steel case and a screwdown crown. I paired mine with a NATO band, so I can't comment about the strap. However, the Lume is pretty terrible. Getting good Lume is a solved problem, but Casio is using the same outdated tech from the 80's and 90's. If you need the read the watch in the dark, forget about this watch. The date window is comparatively tiny for a huge dial. The movement feels really cheap when having to change the date. It's hard to tell how many clicks you need to pull out to do this task. Keeps good time. On the outside it almost looks like a nice Seiko diver, but nowhere near the quality.\"\n",
    "           \n",
    "      # Questo utente crede che un cavo hdmi attaccato al suo monitor possa minare la sua connessione a internet... \n",
    "      # Davvero dobbiamo condividere il pianeta con questi esseri? La buona notizia è che il sentiment è stato colto in pieno dal modello.\n",
    "     \"this monitor is great, easy setup and nice picture. However though, once u plugged it in using the provided HDMI cable, the internet connection got terrible. I’d unplug the monitor, it would be fine. I found something online that suggested the HDMI cable was bad, swapped it for a different one, and internet problems were gone!\"\n",
    "]#end_reviews\n",
    "\n",
    "for review in reviews:\n",
    "    clean_review_text = clean_text(review)\n",
    "    print(\"Il sentiment della recensione è stato predetto:\", predict_review(model, clean_review_text))"
   ],
   "id": "384331a77ce78e7b",
   "outputs": [
    {
     "name": "stdout",
     "output_type": "stream",
     "text": [
      "1/1 [==============================] - 0s 24ms/step\n",
      "Il sentiment della recensione è stato predetto: Positiva\n",
      "1/1 [==============================] - 0s 22ms/step\n",
      "Il sentiment della recensione è stato predetto: Positiva\n",
      "1/1 [==============================] - 0s 20ms/step\n",
      "Il sentiment della recensione è stato predetto: Negativa\n",
      "1/1 [==============================] - 0s 18ms/step\n",
      "Il sentiment della recensione è stato predetto: Negativa\n",
      "1/1 [==============================] - 0s 20ms/step\n",
      "Il sentiment della recensione è stato predetto: Negativa\n",
      "1/1 [==============================] - 0s 19ms/step\n",
      "Il sentiment della recensione è stato predetto: Positiva\n",
      "1/1 [==============================] - 0s 19ms/step\n",
      "Il sentiment della recensione è stato predetto: Negativa\n",
      "1/1 [==============================] - 0s 19ms/step\n",
      "Il sentiment della recensione è stato predetto: Positiva\n",
      "1/1 [==============================] - 0s 19ms/step\n",
      "Il sentiment della recensione è stato predetto: Positiva\n",
      "1/1 [==============================] - 0s 20ms/step\n",
      "Il sentiment della recensione è stato predetto: Negativa\n",
      "1/1 [==============================] - 0s 19ms/step\n",
      "Il sentiment della recensione è stato predetto: Positiva\n",
      "1/1 [==============================] - 0s 23ms/step\n",
      "Il sentiment della recensione è stato predetto: Positiva\n",
      "1/1 [==============================] - 0s 21ms/step\n",
      "Il sentiment della recensione è stato predetto: Negativa\n",
      "1/1 [==============================] - 0s 22ms/step\n",
      "Il sentiment della recensione è stato predetto: Positiva\n",
      "1/1 [==============================] - 0s 23ms/step\n",
      "Il sentiment della recensione è stato predetto: Negativa\n",
      "1/1 [==============================] - 0s 20ms/step\n",
      "Il sentiment della recensione è stato predetto: Negativa\n"
     ]
    }
   ],
   "execution_count": 11
  },
  {
   "metadata": {},
   "cell_type": "code",
   "outputs": [],
   "execution_count": null,
   "source": "",
   "id": "62acb66492b22390"
  }
 ],
 "metadata": {
  "kernelspec": {
   "display_name": "Python 3",
   "language": "python",
   "name": "python3"
  },
  "language_info": {
   "codemirror_mode": {
    "name": "ipython",
    "version": 2
   },
   "file_extension": ".py",
   "mimetype": "text/x-python",
   "name": "python",
   "nbconvert_exporter": "python",
   "pygments_lexer": "ipython2",
   "version": "2.7.6"
  }
 },
 "nbformat": 4,
 "nbformat_minor": 5
}
