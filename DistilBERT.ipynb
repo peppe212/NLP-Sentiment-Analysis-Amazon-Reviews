{
 "cells": [
  {
   "metadata": {},
   "cell_type": "markdown",
   "source": [
    "**Project:** Sentiment Analysis of [Amazon Product Reviews](https://www.kaggle.com/datasets/arhamrumi/amazon-product-reviews)\n",
    "\n",
    "**Author:** [Giuseppe Muschetta](https://github.com/peppe212)\n",
    "\n",
    "**Python version:** 3.8"
   ],
   "id": "583ea4c1dd1e3d67"
  },
  {
   "metadata": {},
   "cell_type": "markdown",
   "source": [
    "# CLASSIFICATION WITH DistilBERT\n",
    "\n",
    "<h2 style=\"margin-bottom: 0;\">1. Size and Speed</h2>\n",
    "<p style=\"margin-top: 0;\">DistilBERT is approximately 40% smaller and 60% faster than BERT. This is achieved by reducing the number of Transformer layers. DistilBERT has 6 Transformer layers, unlike the 12 of BERT Base. Since it has fewer parameters (about 66 million compared to BERT Base's 110 million), DistilBERT is easier to run on hardware with limited resources and requires less memory during training and inference.</p>\n",
    "\n",
    "<h2 style=\"margin-bottom: 0;\">2. Performance</h2>\n",
    "<p style=\"margin-top: 0;\">DistilBERT manages to maintain about 97% of BERT's capabilities on language understanding tasks despite having only about 60% of the parameters. This is achieved through a process of 'knowledge distillation', which involves training DistilBERT to mimic the behaviour of the larger BERT model. Although the performance is slightly lower than that of BERT, the difference is often an acceptable trade-off considering the benefits in terms of computational efficiency and cost.</p>\n",
    "\n",
    "<h2 style=\"margin-bottom: 0;\">3. Applications and Usage</h2>\n",
    "<p style=\"margin-top: 0;\">DistilBERT can be used in almost any context in which BERT is used, especially when computing resources are a limitation or when higher processing speed is required, such as in applications on mobile devices or in latency sensitive environments. BERT is preferable for applications that require maximum precision and where computational resources are not a major constraint, such as in research environments or when working with very complex language problems.</p>"
   ],
   "id": "e7b17b34fc7d368a"
  },
  {
   "metadata": {
    "ExecuteTime": {
     "end_time": "2024-05-02T21:33:39.821299Z",
     "start_time": "2024-05-02T21:33:39.818487Z"
    }
   },
   "cell_type": "code",
   "source": [
    "# Sopprimiamo i warnings\n",
    "import warnings\n",
    "warnings.filterwarnings('ignore')"
   ],
   "id": "a577845c7c619498",
   "outputs": [],
   "execution_count": 1
  },
  {
   "metadata": {
    "ExecuteTime": {
     "end_time": "2024-05-02T21:33:41.072811Z",
     "start_time": "2024-05-02T21:33:40.177787Z"
    }
   },
   "cell_type": "code",
   "source": [
    "# Importiamo tutte le librerie necessarie\n",
    "import pandas as pd\n",
    "import numpy as np\n",
    "import matplotlib.pyplot as plt\n",
    "import seaborn as sns\n",
    "\n",
    "from pathlib import Path\n",
    "\n",
    "import torch\n",
    "from torch.utils.data import (DataLoader, \n",
    "                              RandomSampler, \n",
    "                              SequentialSampler,\n",
    "                              TensorDataset)\n",
    "\n",
    "from transformers import (DistilBertTokenizer, \n",
    "                          DistilBertForSequenceClassification, \n",
    "                          AdamW, \n",
    "                          get_scheduler)\n",
    "\n",
    "from sklearn.model_selection import train_test_split\n",
    "\n",
    "from sklearn.metrics import (roc_curve, \n",
    "                             auc, \n",
    "                             confusion_matrix,\n",
    "                             precision_recall_curve,\n",
    "                             accuracy_score, \n",
    "                             classification_report)"
   ],
   "id": "67d01c3e5ef1614b",
   "outputs": [],
   "execution_count": 2
  },
  {
   "metadata": {},
   "cell_type": "markdown",
   "source": "### IMPOSTAZIONE DEI PATH",
   "id": "53ec29e45e1e0c62"
  },
  {
   "metadata": {
    "ExecuteTime": {
     "end_time": "2024-05-02T21:33:41.356843Z",
     "start_time": "2024-05-02T21:33:41.143934Z"
    }
   },
   "cell_type": "code",
   "source": [
    "# Caricamento del Dataset raw, il DistilBERT vuole il testo grezzo\n",
    "DATASET_PATH = Path() / \"Dataset/cleaned_reviews.csv\"\n",
    "df = pd.read_csv(DATASET_PATH)\n",
    "if df.isna().any().any():\n",
    "    df.fillna(\"\", inplace=True)\n",
    "\n",
    "# Impostazione path per il salvataggio immagini\n",
    "IMAGES_PATH = Path() / \"Images\" / \"DistilBERT\"\n",
    "IMAGES_PATH.mkdir(parents=True, exist_ok=True)\n",
    "\n",
    "def save_my_image(fig_id, tight_layout=True, fig_extension=\"png\", resolution=300):\n",
    "    path = IMAGES_PATH / f\"{fig_id}.{fig_extension}\"\n",
    "    if tight_layout:\n",
    "        plt.tight_layout()\n",
    "    plt.savefig(path, format=fig_extension, dpi=resolution)\n",
    "    return\n",
    "\n",
    "\n",
    "# Gestione salvataggio e caricamento del modello di LinearSVC\n",
    "MODEL_PATH = Path() / \"Saved_models\" / \"DistilBERT\"\n",
    "MODEL_PATH.mkdir(parents=True, exist_ok=True)\n",
    "\n",
    "# Salva il modello su un file di estensione default.tf\n",
    "def save_my_model(model, model_name='DistilBERT', model_extension=\"pth\"):\n",
    "    path = MODEL_PATH / f\"{model_name}.{model_extension}\"\n",
    "    try:\n",
    "        # salva il modello utilizzando la libreria pytorch\n",
    "        torch.save(model.state_dict(), path)\n",
    "        print(f\"Modello salvato correttamente in: {path}\")\n",
    "    except Exception as e:\n",
    "        print(f\"Si è verificato un errore durante il salvataggio del modello: {e}\")\n",
    "        raise FileNotFoundError\n",
    "#end_function\n",
    "\n",
    "# Carica il modello dal file con estensione a default.tf\n",
    "def load_my_model(model_name=\"DistilBERT\", model_extension=\"pth\", device_type=\"mps\"):\n",
    "    path = MODEL_PATH / f\"{model_name}.{model_extension}\"\n",
    "    if path.exists():\n",
    "        try:\n",
    "            # Impostazione del device, uso la mia GPU\n",
    "            device = torch.device(device_type)\n",
    "            # Creazione dell'istanza del modello con due classi\n",
    "            model = DistilBertForSequenceClassification.from_pretrained('distilbert-base-uncased', num_labels=2)\n",
    "            # Caricamento dello state dict e del device primario, a default la GPU\n",
    "            model.load_state_dict(torch.load(path, map_location=device))\n",
    "            # Impostiamo il modello in fase valutazione\n",
    "            model.eval()\n",
    "            model.to(device)\n",
    "            print(f\"Modello caricato correttamente da: {path}\")\n",
    "            return model, device\n",
    "        except Exception as e:\n",
    "            print(f\"Si è verificato un errore durante il caricamento del modello: {e}\")\n",
    "            raise\n",
    "    else:\n",
    "        error_msg = f\"Il file del modello non esiste: {path}\"\n",
    "        print(error_msg)\n",
    "        raise FileNotFoundError(error_msg)\n",
    "#end_function\n"
   ],
   "id": "af7db8ee72c477ae",
   "outputs": [],
   "execution_count": 3
  },
  {
   "metadata": {},
   "cell_type": "markdown",
   "source": "### PREPARAZIONE DEI DATI",
   "id": "8dd1a59d0f4d7e58"
  },
  {
   "metadata": {
    "ExecuteTime": {
     "end_time": "2024-05-02T21:34:48.699057Z",
     "start_time": "2024-05-02T21:33:42.742058Z"
    }
   },
   "cell_type": "code",
   "source": [
    "# È necessario eseguire questa cella anche se si intende caricare il modello da file\n",
    "\n",
    "# Funzione per convertire i dati in formato compatibile con DistilBERT\n",
    "def encode_data(tokenizer, texts, max_len):\n",
    "    input_ids = []\n",
    "    attention_masks = []\n",
    "\n",
    "    for text in texts:\n",
    "        encoded = tokenizer.encode_plus(\n",
    "            text,\n",
    "            add_special_tokens=True,\n",
    "            max_length=max_len,\n",
    "            return_token_type_ids=False,\n",
    "            pad_to_max_length=True,\n",
    "            return_attention_mask=True,\n",
    "            return_tensors='pt',\n",
    "            truncation=True\n",
    "        )\n",
    "        input_ids.append(encoded['input_ids'])\n",
    "        attention_masks.append(encoded['attention_mask'])\n",
    "\n",
    "    return torch.cat(input_ids, dim=0), torch.cat(attention_masks, dim=0)\n",
    "# end_function\n",
    "\n",
    "# Caricamento del Tokenizer\n",
    "tokenizer = DistilBertTokenizer.from_pretrained('distilbert-base-uncased')\n",
    "\n",
    "# Preparazione dei dati\n",
    "texts = df['cleaned_text'].values\n",
    "labels = df['sentiment'].values\n",
    "\n",
    "# Dividere i dati in training e validation (usa un sottoinsieme per velocizzare)\n",
    "train_texts, val_texts, train_labels, val_labels = train_test_split(\n",
    "    texts,\n",
    "    labels,\n",
    "    test_size=0.2,\n",
    "    random_state=42,\n",
    "    stratify=labels\n",
    ")\n",
    "\n",
    "# Encoding dei dati\n",
    "train_inputs, train_masks = encode_data(tokenizer, train_texts, max_len=128)\n",
    "val_inputs, val_masks = encode_data(tokenizer, val_texts, max_len=128)\n",
    "\n",
    "train_labels = torch.tensor(train_labels)\n",
    "val_labels = torch.tensor(val_labels)\n",
    "\n",
    "# Creazione del DataLoader\n",
    "train_data = TensorDataset(train_inputs, train_masks, train_labels)\n",
    "train_sampler = RandomSampler(train_data)\n",
    "train_dataloader = DataLoader(train_data,\n",
    "                              sampler=train_sampler,\n",
    "                              batch_size=64,\n",
    "                              multiprocessing_context='fork',\n",
    "                              # di vitale importanza impostare il massimo #core della macchina senza però\n",
    "                              # eccedere il loro totale, si creerebbe un overhead inutile che potrebbe\n",
    "                              # addirittura degradare le performance\n",
    "                              num_workers=10) # ho messo il numero di core della mia specifica macchina\n",
    "\n",
    "val_data = TensorDataset(val_inputs, val_masks, val_labels)\n",
    "val_sampler = SequentialSampler(val_data)\n",
    "val_dataloader = DataLoader(val_data,\n",
    "                            sampler=val_sampler,\n",
    "                            batch_size=64,\n",
    "                            multiprocessing_context='fork',\n",
    "                            # anche qui imposto il max num di core del mio mac con M1 Pro\n",
    "                            num_workers=10) # stessa cosa, ho impostato il max num di core della mia macchina"
   ],
   "id": "c4d887ed53f85d89",
   "outputs": [],
   "execution_count": 4
  },
  {
   "metadata": {},
   "cell_type": "markdown",
   "source": "### TRAINING DEL MODELLO DistilBERT",
   "id": "3879077038f434f0"
  },
  {
   "metadata": {
    "ExecuteTime": {
     "end_time": "2024-05-02T22:05:15.732603Z",
     "start_time": "2024-05-02T21:35:44.078959Z"
    }
   },
   "cell_type": "code",
   "source": [
    "# QUI ANDIAMO A TRAINARE E VALUTARE IL MODELLO DistilBERT\n",
    "# Se il modello è già salvato su file, questa cella potrebbe non essere eseguita\n",
    "# Si può procedere direttamente alla cella idi caricamento del file\n",
    "\n",
    "# CREO E CONFIGURO IL MODELLO:\n",
    "model = DistilBertForSequenceClassification.from_pretrained('distilbert-base-uncased', num_labels=2)\n",
    "# Ottimizzatore\n",
    "optimizer = AdamW(model.parameters(), lr=5e-5, eps=1e-8)\n",
    "# si è visto che andare oltre questa soglia non aumenta le performance del modello\n",
    "# anzi, la sua capacità di generalizzare addirittura diminuisce di qualche punto percentuale\n",
    "# ciò è dovuto all'overfitting che aumenta proporzionalmente alle epoche.\n",
    "epochs = 3\n",
    "total_steps = len(train_dataloader) * epochs\n",
    "# Scheduler\n",
    "scheduler = get_scheduler(\"linear\", optimizer=optimizer, num_warmup_steps=0, num_training_steps=total_steps)\n",
    "# IMPOSTIAMO LA GPU PER TUTTI I CALCOLI PIU' IMPEGNATIVI \n",
    "# E NON LA CPU (che è infinitamente più lenta)\n",
    "# Utilizzo l'API Grafica Apple Metal\n",
    "device = torch.device('mps')\n",
    "model.to(device)\n",
    "\n",
    "# Funzione per addestrare il modello\n",
    "def train_model(model, dataloader, optimizer, scheduler, device):\n",
    "    model.train()\n",
    "    total_loss = 0\n",
    "    for step, batch in enumerate(dataloader):\n",
    "        batch = [r.to(device) for r in batch]\n",
    "        b_input_ids, b_input_mask, b_labels = batch\n",
    "        model.zero_grad()\n",
    "        outputs = model(b_input_ids, attention_mask=b_input_mask, labels=b_labels)\n",
    "        loss = outputs.loss\n",
    "        total_loss += loss.item()\n",
    "        loss.backward()\n",
    "        torch.nn.utils.clip_grad_norm_(model.parameters(), 1.0)\n",
    "        optimizer.step()\n",
    "        scheduler.step()\n",
    "    avg_train_loss = total_loss / len(dataloader)\n",
    "    return avg_train_loss\n",
    "\n",
    "\n",
    "# ESECUZIONE DEL TRAINING E DELLA VALUTAZIONE:\n",
    "average_train_loss = train_model(model, train_dataloader, optimizer, scheduler, device)\n",
    "print(f\"Train loss: {average_train_loss}\")\n"
   ],
   "id": "b239b5fc2c8c47fe",
   "outputs": [
    {
     "name": "stderr",
     "output_type": "stream",
     "text": [
      "Some weights of DistilBertForSequenceClassification were not initialized from the model checkpoint at distilbert-base-uncased and are newly initialized: ['classifier.bias', 'classifier.weight', 'pre_classifier.bias', 'pre_classifier.weight']\n",
      "You should probably TRAIN this model on a down-stream task to be able to use it for predictions and inference.\n"
     ]
    },
    {
     "name": "stdout",
     "output_type": "stream",
     "text": [
      "Train loss: 0.24189707898021268\n"
     ]
    }
   ],
   "execution_count": 5
  },
  {
   "metadata": {},
   "cell_type": "markdown",
   "source": "#### SALVATAGGIO MODELLO",
   "id": "3941f9d9f53dc88e"
  },
  {
   "metadata": {
    "ExecuteTime": {
     "end_time": "2024-05-02T22:18:31.898412Z",
     "start_time": "2024-05-02T22:18:31.464461Z"
    }
   },
   "cell_type": "code",
   "source": [
    "# Salvo il modello\n",
    "save_my_model(model)"
   ],
   "id": "428a2759b0b1c24d",
   "outputs": [
    {
     "name": "stdout",
     "output_type": "stream",
     "text": [
      "Modello salvato correttamente in: Saved_models/DistilBERT/DistilBERT.pth\n"
     ]
    }
   ],
   "execution_count": 6
  },
  {
   "metadata": {},
   "cell_type": "markdown",
   "source": "#### CARICO IL MODELLO   ",
   "id": "50b6d7c50f60bc2c"
  },
  {
   "metadata": {},
   "cell_type": "code",
   "source": [
    "# CARICAMENTO DEL MODELLO:\n",
    "model, device = load_my_model()\n",
    "\n",
    "# la funzione di caricamento l'ho scritta apposta per tenere conto:\n",
    "# 1 - del device principale\n",
    "# 2 - dell'assegnazione della GPU ad esso\n",
    "# 3 - del settaggio del modello già in modalità model.eval() \n",
    "#     in modo che sia già pronto a predire"
   ],
   "id": "edead4ff73a47ad1",
   "outputs": [],
   "execution_count": null
  },
  {
   "metadata": {},
   "cell_type": "markdown",
   "source": "### VALUTAZIONE DEL MODELLO DistilBERT",
   "id": "6cb2e3abf06168ac"
  },
  {
   "metadata": {
    "ExecuteTime": {
     "end_time": "2024-05-02T22:23:15.197643Z",
     "start_time": "2024-05-02T22:18:35.516063Z"
    }
   },
   "cell_type": "code",
   "source": [
    "# Funzione per valutare il modello\n",
    "def evaluate_model(model, dataloader, device):\n",
    "    model.eval()\n",
    "    all_preds = []\n",
    "    all_labels = []\n",
    "    for batch in dataloader:\n",
    "        batch = [t.to(device) for t in batch]\n",
    "        b_input_ids, b_input_mask, b_labels = batch\n",
    "        with torch.no_grad():\n",
    "            outputs = model(b_input_ids, attention_mask=b_input_mask)\n",
    "        logits = outputs.logits\n",
    "        preds = torch.argmax(logits, dim=1)\n",
    "        all_preds.extend(preds.cpu().numpy())\n",
    "        all_labels.extend(b_labels.cpu().numpy())\n",
    "    accuracy = accuracy_score(all_labels, all_preds)\n",
    "    report = classification_report(all_labels, all_preds)\n",
    "    return accuracy, report\n",
    "\n",
    "# Funzione di predizione su dataset\n",
    "def predict_on_dataset(model, dataloader):\n",
    "    model.eval()\n",
    "    predictions = []\n",
    "    true_labels = []\n",
    "    probabilities = []\n",
    "    with torch.no_grad():\n",
    "        for batch in dataloader:\n",
    "            batch = [t.to(device) for t in batch]\n",
    "            b_input_ids, b_input_mask, b_labels = batch\n",
    "            outputs = model(b_input_ids, attention_mask=b_input_mask)\n",
    "            logits = outputs.logits\n",
    "            probs = torch.nn.functional.softmax(logits, dim=1)\n",
    "            preds = torch.argmax(probs, dim=1)\n",
    "            predictions.extend(preds.cpu().numpy())\n",
    "            probabilities.extend(probs[:,1].cpu().numpy())\n",
    "            true_labels.extend(b_labels.cpu().numpy())\n",
    "    return np.array(predictions), np.array(true_labels), np.array(probabilities)\n",
    "\n",
    "accuracy, report = evaluate_model(model, val_dataloader, device)\n",
    "print(f\"Accuracy: {accuracy}\\nClassification Report:\\n{report}\")\n",
    "predictions, true_labels, probabilities = predict_on_dataset(model, val_dataloader)\n",
    "print(\"Predictions completed.\")\n",
    "# Matrice di confusione testuale\n",
    "conf_matrix = confusion_matrix(true_labels, predictions)\n",
    "print(conf_matrix)"
   ],
   "id": "3880de6239cf8a04",
   "outputs": [
    {
     "name": "stdout",
     "output_type": "stream",
     "text": [
      "Accuracy: 0.9327136980039616\n",
      "Classification Report:\n",
      "              precision    recall  f1-score   support\n",
      "\n",
      "           0       0.93      0.93      0.93     16408\n",
      "           1       0.93      0.93      0.93     16407\n",
      "\n",
      "    accuracy                           0.93     32815\n",
      "   macro avg       0.93      0.93      0.93     32815\n",
      "weighted avg       0.93      0.93      0.93     32815\n",
      "\n",
      "Predictions completed.\n",
      "[[15315  1093]\n",
      " [ 1115 15292]]\n"
     ]
    }
   ],
   "execution_count": 7
  },
  {
   "metadata": {},
   "cell_type": "markdown",
   "source": "### VISUALIZZAZIONE PERFORMANCE DEL MODELLO:",
   "id": "3bb0096d0527dda3"
  },
  {
   "metadata": {
    "ExecuteTime": {
     "end_time": "2024-05-02T22:26:15.037408Z",
     "start_time": "2024-05-02T22:26:14.369176Z"
    }
   },
   "cell_type": "code",
   "source": [
    "# Matrice di confusione\n",
    "conf_matrix = confusion_matrix(true_labels, predictions)\n",
    "fig, ax = plt.subplots(figsize=(6,6))\n",
    "sns.heatmap(conf_matrix, annot=True, fmt='d',\n",
    "            xticklabels=['Negativa', 'Positiva'],\n",
    "            yticklabels=['Negativa', 'Positiva'],\n",
    "            cmap=\"Blues\", cbar=False)\n",
    "plt.ylabel('Actual')\n",
    "plt.xlabel('Predicted')\n",
    "plt.title('Confusion Matrix')\n",
    "save_my_image(\"confusion_matrix\")\n",
    "plt.show()\n",
    "\n",
    "# Calcolo della Curva ROC\n",
    "fpr, tpr, thresholds = roc_curve(true_labels, probabilities)\n",
    "roc_auc = auc(fpr, tpr)\n",
    "\n",
    "# Plot della Curva ROC\n",
    "plt.figure()\n",
    "lw = 2\n",
    "plt.plot(fpr, tpr, color='darkorange',\n",
    "         lw=lw, label='ROC curve (area = %0.2f)' % roc_auc)\n",
    "plt.plot([0, 1], [0, 1], color='navy', lw=lw, linestyle='--')\n",
    "plt.xlim([0.0, 1.0])\n",
    "plt.ylim([0.0, 1.05])\n",
    "plt.xlabel('False Positive Rate')\n",
    "plt.ylabel('True Positive Rate')\n",
    "plt.title('Receiver Operating Characteristic')\n",
    "plt.legend(loc=\"lower right\")\n",
    "save_my_image(\"roc_curve\")\n",
    "plt.show()\n",
    "\n",
    "# Calcolo della Curva Precision-Recall\n",
    "precision, recall, _ = precision_recall_curve(true_labels, probabilities)\n",
    "\n",
    "# Plot della Curva Precision-Recall\n",
    "plt.figure()\n",
    "plt.plot(recall, precision, color='purple', lw=lw,\n",
    "         label='Precision-Recall curve')\n",
    "plt.xlabel('Recall')\n",
    "plt.ylabel('Precision')\n",
    "plt.ylim([0.0, 1.05])\n",
    "plt.xlim([0.0, 1.0])\n",
    "plt.title('Precision-Recall Curve')\n",
    "plt.legend(loc=\"lower left\")\n",
    "save_my_image(\"precision_recall_curve\")\n",
    "plt.show()"
   ],
   "id": "2d92549a4ffd230a",
   "outputs": [
    {
     "data": {
      "text/plain": [
       "<Figure size 600x600 with 1 Axes>"
      ],
      "image/png": "[encoded data removed]"
     },
     "metadata": {},
     "output_type": "display_data"
    },
    {
     "data": {
      "text/plain": [
       "<Figure size 640x480 with 1 Axes>"
      ],
      "image/png": "[encoded data removed]"
     },
     "metadata": {},
     "output_type": "display_data"
    },
    {
     "data": {
      "text/plain": [
       "<Figure size 640x480 with 1 Axes>"
      ],
      "image/png": "[encoded data removed]"
     },
     "metadata": {},
     "output_type": "display_data"
    }
   ],
   "execution_count": 8
  },
  {
   "metadata": {},
   "cell_type": "markdown",
   "source": "",
   "id": "9f10185bb6b11c2e"
  }
 ],
 "metadata": {
  "kernelspec": {
   "display_name": "Python 3",
   "language": "python",
   "name": "python3"
  },
  "language_info": {
   "codemirror_mode": {
    "name": "ipython",
    "version": 2
   },
   "file_extension": ".py",
   "mimetype": "text/x-python",
   "name": "python",
   "nbconvert_exporter": "python",
   "pygments_lexer": "ipython2",
   "version": "2.7.6"
  }
 },
 "nbformat": 4,
 "nbformat_minor": 5
}
